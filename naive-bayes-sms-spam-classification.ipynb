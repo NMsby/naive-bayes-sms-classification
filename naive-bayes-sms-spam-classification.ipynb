{
 "cells": [
  {
   "cell_type": "markdown",
   "id": "220881a5",
   "metadata": {
    "execution": {
     "iopub.execute_input": "2025-04-16T16:07:34.994239Z",
     "iopub.status.busy": "2025-04-16T16:07:34.993150Z",
     "iopub.status.idle": "2025-04-16T16:07:35.005361Z",
     "shell.execute_reply": "2025-04-16T16:07:35.004385Z",
     "shell.execute_reply.started": "2025-04-16T16:07:34.994202Z"
    },
    "papermill": {
     "duration": 0.010709,
     "end_time": "2025-04-16T17:06:53.915086",
     "exception": false,
     "start_time": "2025-04-16T17:06:53.904377",
     "status": "completed"
    },
    "tags": []
   },
   "source": [
    "# Naive Bayes SMS Spam Classification\n",
    "\n",
    "## Overview\n",
    "This document outlines a Naive Bayes classifier from scratch to classify SMS messages as spam or legitimate (ham).\n",
    "\n",
    "## Dataset Selection\n",
    "We've selected the **SMS Spam Collection Dataset** from Kaggle for this assignment. This dataset contains SMS messages labeled as spam or ham and is well-suited for demonstrating the Naive Bayes algorithm for the following reasons:\n",
    "- It represents a real-world text classification problem\n",
    "- It's a binary classification task with clear evaluation metrics\n",
    "- Text classification is a domain where Naive Bayes excels\n",
    "- The dataset is clean and requires minimal preprocessing\n",
    "\n",
    "## Implementation Phases\n",
    "- Phase 1: Environment Setup and Data Exploration \n",
    "- Phase 2: Text Preprocessing\n",
    "- Phase 3: Naive Bayes Implementation\n",
    "- Phase 4: Data Preparation\n",
    "- Phase 5: Training and Evaluation\n",
    "- Phase 6: Model Refinement and Analysis\n",
    "- Phase 7: Bayes Theorem Explanation and Visualization\n",
    "- Phase 8: Documentation and Reporting\n",
    "\n",
    "## Theoretical Foundation\n",
    "\n",
    "The SMS Spam Classsifier is based on the Multinomial Naive Bayes variant, which is appropriate for text classification with the following theoretical components:\n",
    "\n",
    "1. **Prior Probabilities**:\n",
    "   - P(Spam): Proportion of spam messages in the training data\n",
    "   - P(Ham): Proportion of ham messages in the training data\n",
    "\n",
    "2. **Likelihood Calculation**:\n",
    "   - P(word|Spam): Probability of word occurrence in spam messages\n",
    "   - P(word|Ham): Probability of word occurrence in ham messages\n",
    "\n",
    "3. **Posterior Calculation**:\n",
    "   - P(Spam|Message) ∝ P(Spam) × ∏ P(word_i|Spam)\n",
    "   - P(Ham|Message) ∝ P(Ham) × ∏ P(word_i|Ham)\n",
    "\n",
    "4. **Naive Assumption**:\n",
    "   - Word occurrences are conditionally independent given the class\n",
    "   - P(word_1, word_2, ..., word_n|Class) = P(word_1|Class) × P(word_2|Class) × ... × P(word_n|Class)\n",
    "\n",
    "## Expected Results\n",
    "\n",
    "We expect our implementation to achieve:\n",
    "- Accuracy of approximately 97-98%\n",
    "- High precision to minimize false positives\n",
    "- Strong recall to catch most spam messages\n",
    "- Clear visualization of model performance\n",
    "- Insightful word importance analysis\n",
    "\n",
    "## Conclusion"
   ]
  },
  {
   "cell_type": "markdown",
   "id": "c421855b",
   "metadata": {
    "papermill": {
     "duration": 0.008748,
     "end_time": "2025-04-16T17:06:53.932968",
     "exception": false,
     "start_time": "2025-04-16T17:06:53.924220",
     "status": "completed"
    },
    "tags": []
   },
   "source": [
    "### Phase 1: Environment Setup and Data Exploration\n",
    "- Import necessary libraries (NumPy, Pandas, Matplotlib, etc.)\n",
    "- Load and examine the SMS dataset structure\n",
    "- Analyze class distribution and message characteristics\n",
    "- Check for data quality issues (missing values, duplicates)\n",
    "- Visualize message length distributions by class"
   ]
  },
  {
   "cell_type": "code",
   "execution_count": 1,
   "id": "2c56e797",
   "metadata": {
    "execution": {
     "iopub.execute_input": "2025-04-16T17:06:53.951882Z",
     "iopub.status.busy": "2025-04-16T17:06:53.951537Z",
     "iopub.status.idle": "2025-04-16T17:06:57.386464Z",
     "shell.execute_reply": "2025-04-16T17:06:57.385795Z"
    },
    "papermill": {
     "duration": 3.446255,
     "end_time": "2025-04-16T17:06:57.388017",
     "exception": false,
     "start_time": "2025-04-16T17:06:53.941762",
     "status": "completed"
    },
    "tags": []
   },
   "outputs": [],
   "source": [
    "# Importing necessary libraries (NumPy, Pandas, Matplotlib)\n",
    "import numpy as np\n",
    "import pandas as pd\n",
    "import matplotlib.pyplot as plt\n",
    "import seaborn as sns\n",
    "import re\n",
    "import string\n",
    "from collections import Counter, defaultdict\n",
    "import random\n",
    "from sklearn.model_selection import train_test_split\n",
    "from sklearn.metrics import confusion_matrix, accuracy_score, precision_score, recall_score, f1_score, roc_curve, auc\n",
    "\n",
    "# Set random seed for reproducibility\n",
    "np.random.seed(42)\n",
    "random.seed(42)"
   ]
  },
  {
   "cell_type": "markdown",
   "id": "2d5a01af",
   "metadata": {
    "papermill": {
     "duration": 0.008852,
     "end_time": "2025-04-16T17:06:57.406216",
     "exception": false,
     "start_time": "2025-04-16T17:06:57.397364",
     "status": "completed"
    },
    "tags": []
   },
   "source": [
    "#### 2. Load and Explore the Dataset"
   ]
  },
  {
   "cell_type": "code",
   "execution_count": 2,
   "id": "112058df",
   "metadata": {
    "execution": {
     "iopub.execute_input": "2025-04-16T17:06:57.425086Z",
     "iopub.status.busy": "2025-04-16T17:06:57.424388Z",
     "iopub.status.idle": "2025-04-16T17:06:57.464592Z",
     "shell.execute_reply": "2025-04-16T17:06:57.463938Z"
    },
    "papermill": {
     "duration": 0.051318,
     "end_time": "2025-04-16T17:06:57.465994",
     "exception": false,
     "start_time": "2025-04-16T17:06:57.414676",
     "status": "completed"
    },
    "tags": []
   },
   "outputs": [],
   "source": [
    "# Load the SMS Spam Collection dataset\n",
    "df = pd.read_csv('/kaggle/input/sms-spam-collection-dataset/spam.csv', encoding='latin-1')"
   ]
  },
  {
   "cell_type": "code",
   "execution_count": 3,
   "id": "898c418f",
   "metadata": {
    "execution": {
     "iopub.execute_input": "2025-04-16T17:06:57.484524Z",
     "iopub.status.busy": "2025-04-16T17:06:57.484232Z",
     "iopub.status.idle": "2025-04-16T17:06:57.496812Z",
     "shell.execute_reply": "2025-04-16T17:06:57.495825Z"
    },
    "papermill": {
     "duration": 0.023066,
     "end_time": "2025-04-16T17:06:57.497998",
     "exception": false,
     "start_time": "2025-04-16T17:06:57.474932",
     "status": "completed"
    },
    "tags": []
   },
   "outputs": [
    {
     "name": "stdout",
     "output_type": "stream",
     "text": [
      "Dataset shape: (5572, 5)\n",
      "\n",
      "First 5 rows:\n",
      "     v1                                                 v2 Unnamed: 2  \\\n",
      "0   ham  Go until jurong point, crazy.. Available only ...        NaN   \n",
      "1   ham                      Ok lar... Joking wif u oni...        NaN   \n",
      "2  spam  Free entry in 2 a wkly comp to win FA Cup fina...        NaN   \n",
      "3   ham  U dun say so early hor... U c already then say...        NaN   \n",
      "4   ham  Nah I don't think he goes to usf, he lives aro...        NaN   \n",
      "\n",
      "  Unnamed: 3 Unnamed: 4  \n",
      "0        NaN        NaN  \n",
      "1        NaN        NaN  \n",
      "2        NaN        NaN  \n",
      "3        NaN        NaN  \n",
      "4        NaN        NaN  \n"
     ]
    }
   ],
   "source": [
    "# Initial inspection\n",
    "print(\"Dataset shape:\", df.shape)\n",
    "print(\"\\nFirst 5 rows:\")\n",
    "print(df.head())"
   ]
  },
  {
   "cell_type": "code",
   "execution_count": 4,
   "id": "d44a668e",
   "metadata": {
    "execution": {
     "iopub.execute_input": "2025-04-16T17:06:57.516828Z",
     "iopub.status.busy": "2025-04-16T17:06:57.516259Z",
     "iopub.status.idle": "2025-04-16T17:06:57.536530Z",
     "shell.execute_reply": "2025-04-16T17:06:57.535595Z"
    },
    "papermill": {
     "duration": 0.031025,
     "end_time": "2025-04-16T17:06:57.537867",
     "exception": false,
     "start_time": "2025-04-16T17:06:57.506842",
     "status": "completed"
    },
    "tags": []
   },
   "outputs": [
    {
     "name": "stdout",
     "output_type": "stream",
     "text": [
      "\n",
      "Column information:\n",
      "<class 'pandas.core.frame.DataFrame'>\n",
      "RangeIndex: 5572 entries, 0 to 5571\n",
      "Data columns (total 5 columns):\n",
      " #   Column      Non-Null Count  Dtype \n",
      "---  ------      --------------  ----- \n",
      " 0   v1          5572 non-null   object\n",
      " 1   v2          5572 non-null   object\n",
      " 2   Unnamed: 2  50 non-null     object\n",
      " 3   Unnamed: 3  12 non-null     object\n",
      " 4   Unnamed: 4  6 non-null      object\n",
      "dtypes: object(5)\n",
      "memory usage: 217.8+ KB\n",
      "None\n"
     ]
    }
   ],
   "source": [
    "# Check for column information\n",
    "print(\"\\nColumn information:\")\n",
    "print(df.info())"
   ]
  },
  {
   "cell_type": "code",
   "execution_count": 5,
   "id": "f5a9a367",
   "metadata": {
    "execution": {
     "iopub.execute_input": "2025-04-16T17:06:57.556823Z",
     "iopub.status.busy": "2025-04-16T17:06:57.556195Z",
     "iopub.status.idle": "2025-04-16T17:06:57.562590Z",
     "shell.execute_reply": "2025-04-16T17:06:57.561791Z"
    },
    "papermill": {
     "duration": 0.016924,
     "end_time": "2025-04-16T17:06:57.563825",
     "exception": false,
     "start_time": "2025-04-16T17:06:57.546901",
     "status": "completed"
    },
    "tags": []
   },
   "outputs": [
    {
     "name": "stdout",
     "output_type": "stream",
     "text": [
      "\n",
      "Missing values:\n",
      "v1               0\n",
      "v2               0\n",
      "Unnamed: 2    5522\n",
      "Unnamed: 3    5560\n",
      "Unnamed: 4    5566\n",
      "dtype: int64\n"
     ]
    }
   ],
   "source": [
    "# Check for missing values\n",
    "print(\"\\nMissing values:\")\n",
    "print(df.isnull().sum())"
   ]
  },
  {
   "cell_type": "code",
   "execution_count": 6,
   "id": "3ab4e301",
   "metadata": {
    "execution": {
     "iopub.execute_input": "2025-04-16T17:06:57.582731Z",
     "iopub.status.busy": "2025-04-16T17:06:57.582078Z",
     "iopub.status.idle": "2025-04-16T17:06:57.590830Z",
     "shell.execute_reply": "2025-04-16T17:06:57.590124Z"
    },
    "papermill": {
     "duration": 0.019279,
     "end_time": "2025-04-16T17:06:57.591933",
     "exception": false,
     "start_time": "2025-04-16T17:06:57.572654",
     "status": "completed"
    },
    "tags": []
   },
   "outputs": [
    {
     "name": "stdout",
     "output_type": "stream",
     "text": [
      "\n",
      "Cleaned dataset:\n",
      "  label                                            message\n",
      "0   ham  Go until jurong point, crazy.. Available only ...\n",
      "1   ham                      Ok lar... Joking wif u oni...\n",
      "2  spam  Free entry in 2 a wkly comp to win FA Cup fina...\n",
      "3   ham  U dun say so early hor... U c already then say...\n",
      "4   ham  Nah I don't think he goes to usf, he lives aro...\n"
     ]
    }
   ],
   "source": [
    "# The dataset typically has some unnecessary columns (Unnamed: 2, Unnamed: 3, Unnamed: 4)\n",
    "# Let's drop them and rename the remaining columns for clarity\n",
    "df = df.drop(['Unnamed: 2', 'Unnamed: 3', 'Unnamed: 4'], axis=1, errors='ignore')\n",
    "df = df.rename(columns={'v1': 'label', 'v2': 'message'})\n",
    "\n",
    "print(\"\\nCleaned dataset:\")\n",
    "print(df.head())"
   ]
  },
  {
   "cell_type": "code",
   "execution_count": 7,
   "id": "a1d32e24",
   "metadata": {
    "execution": {
     "iopub.execute_input": "2025-04-16T17:06:57.610564Z",
     "iopub.status.busy": "2025-04-16T17:06:57.610265Z",
     "iopub.status.idle": "2025-04-16T17:06:57.618123Z",
     "shell.execute_reply": "2025-04-16T17:06:57.617420Z"
    },
    "papermill": {
     "duration": 0.018788,
     "end_time": "2025-04-16T17:06:57.619506",
     "exception": false,
     "start_time": "2025-04-16T17:06:57.600718",
     "status": "completed"
    },
    "tags": []
   },
   "outputs": [
    {
     "name": "stdout",
     "output_type": "stream",
     "text": [
      "\n",
      "Class distribution:\n",
      "label\n",
      "ham     4825\n",
      "spam     747\n",
      "Name: count, dtype: int64\n",
      "label\n",
      "ham     86.593683\n",
      "spam    13.406317\n",
      "Name: proportion, dtype: float64\n"
     ]
    }
   ],
   "source": [
    "# Check class distribution\n",
    "print(\"\\nClass distribution:\")\n",
    "print(df['label'].value_counts())\n",
    "print(df['label'].value_counts(normalize=True) * 100)"
   ]
  },
  {
   "cell_type": "code",
   "execution_count": 8,
   "id": "ef9c51d6",
   "metadata": {
    "execution": {
     "iopub.execute_input": "2025-04-16T17:06:57.638836Z",
     "iopub.status.busy": "2025-04-16T17:06:57.638555Z",
     "iopub.status.idle": "2025-04-16T17:06:57.851554Z",
     "shell.execute_reply": "2025-04-16T17:06:57.850699Z"
    },
    "papermill": {
     "duration": 0.224169,
     "end_time": "2025-04-16T17:06:57.852858",
     "exception": false,
     "start_time": "2025-04-16T17:06:57.628689",
     "status": "completed"
    },
    "tags": []
   },
   "outputs": [
    {
     "data": {
      "image/png": "[encoded data removed]",
      "text/plain": [
       "<Figure size 800x600 with 1 Axes>"
      ]
     },
     "metadata": {},
     "output_type": "display_data"
    }
   ],
   "source": [
    "# Visualize class distribution\n",
    "plt.figure(figsize=(8, 6))\n",
    "sns.countplot(x='label', data=df)\n",
    "plt.title('Distribution of Spam vs Ham Messages')\n",
    "plt.xlabel('Message Type')\n",
    "plt.ylabel('Count')\n",
    "plt.show()"
   ]
  },
  {
   "cell_type": "code",
   "execution_count": 9,
   "id": "c0b0f941",
   "metadata": {
    "execution": {
     "iopub.execute_input": "2025-04-16T17:06:57.872898Z",
     "iopub.status.busy": "2025-04-16T17:06:57.872405Z",
     "iopub.status.idle": "2025-04-16T17:06:57.898964Z",
     "shell.execute_reply": "2025-04-16T17:06:57.898076Z"
    },
    "papermill": {
     "duration": 0.037821,
     "end_time": "2025-04-16T17:06:57.900247",
     "exception": false,
     "start_time": "2025-04-16T17:06:57.862426",
     "status": "completed"
    },
    "tags": []
   },
   "outputs": [
    {
     "name": "stdout",
     "output_type": "stream",
     "text": [
      "\n",
      "Message length statistics:\n",
      "        count        mean        std   min    25%    50%    75%    max\n",
      "label                                                                 \n",
      "ham    4825.0   71.023627  58.016023   2.0   33.0   52.0   92.0  910.0\n",
      "spam    747.0  138.866131  29.183082  13.0  132.5  149.0  157.0  224.0\n"
     ]
    }
   ],
   "source": [
    "# Analyze message lengths\n",
    "df['length'] = df['message'].apply(len)\n",
    "print(\"\\nMessage length statistics:\")\n",
    "print(df.groupby('label')['length'].describe())"
   ]
  },
  {
   "cell_type": "code",
   "execution_count": 10,
   "id": "575376fa",
   "metadata": {
    "execution": {
     "iopub.execute_input": "2025-04-16T17:06:57.921000Z",
     "iopub.status.busy": "2025-04-16T17:06:57.920365Z",
     "iopub.status.idle": "2025-04-16T17:06:58.389181Z",
     "shell.execute_reply": "2025-04-16T17:06:58.388410Z"
    },
    "papermill": {
     "duration": 0.480576,
     "end_time": "2025-04-16T17:06:58.390539",
     "exception": false,
     "start_time": "2025-04-16T17:06:57.909963",
     "status": "completed"
    },
    "tags": []
   },
   "outputs": [
    {
     "name": "stderr",
     "output_type": "stream",
     "text": [
      "/usr/local/lib/python3.11/dist-packages/seaborn/_oldcore.py:1119: FutureWarning: use_inf_as_na option is deprecated and will be removed in a future version. Convert inf values to NaN before operating instead.\n",
      "  with pd.option_context('mode.use_inf_as_na', True):\n",
      "/usr/local/lib/python3.11/dist-packages/seaborn/_oldcore.py:1075: FutureWarning: When grouping with a length-1 list-like, you will need to pass a length-1 tuple to get_group in a future version of pandas. Pass `(name,)` instead of `name` to silence this warning.\n",
      "  data_subset = grouped_data.get_group(pd_key)\n",
      "/usr/local/lib/python3.11/dist-packages/seaborn/_oldcore.py:1075: FutureWarning: When grouping with a length-1 list-like, you will need to pass a length-1 tuple to get_group in a future version of pandas. Pass `(name,)` instead of `name` to silence this warning.\n",
      "  data_subset = grouped_data.get_group(pd_key)\n",
      "/usr/local/lib/python3.11/dist-packages/seaborn/_oldcore.py:1075: FutureWarning: When grouping with a length-1 list-like, you will need to pass a length-1 tuple to get_group in a future version of pandas. Pass `(name,)` instead of `name` to silence this warning.\n",
      "  data_subset = grouped_data.get_group(pd_key)\n",
      "/usr/local/lib/python3.11/dist-packages/seaborn/_oldcore.py:1075: FutureWarning: When grouping with a length-1 list-like, you will need to pass a length-1 tuple to get_group in a future version of pandas. Pass `(name,)` instead of `name` to silence this warning.\n",
      "  data_subset = grouped_data.get_group(pd_key)\n"
     ]
    },
    {
     "data": {
      "image/png": "[encoded data removed]",
      "text/plain": [
       "<Figure size 1000x600 with 1 Axes>"
      ]
     },
     "metadata": {},
     "output_type": "display_data"
    }
   ],
   "source": [
    "# Visualize message lengths by class\n",
    "plt.figure(figsize=(10, 6))\n",
    "sns.histplot(data=df, x='length', hue='label', bins=50, kde=True)\n",
    "plt.title('Distribution of Message Lengths')\n",
    "plt.xlabel('Message Length (characters)')\n",
    "plt.ylabel('Frequency')\n",
    "plt.xlim(0, 500)  # Limit x-axis for better visualization\n",
    "plt.legend(title='Message Type')\n",
    "plt.show()"
   ]
  },
  {
   "cell_type": "code",
   "execution_count": 11,
   "id": "437b9140",
   "metadata": {
    "execution": {
     "iopub.execute_input": "2025-04-16T17:06:58.419625Z",
     "iopub.status.busy": "2025-04-16T17:06:58.418855Z",
     "iopub.status.idle": "2025-04-16T17:06:58.429084Z",
     "shell.execute_reply": "2025-04-16T17:06:58.427979Z"
    },
    "papermill": {
     "duration": 0.026353,
     "end_time": "2025-04-16T17:06:58.430412",
     "exception": false,
     "start_time": "2025-04-16T17:06:58.404059",
     "status": "completed"
    },
    "tags": []
   },
   "outputs": [
    {
     "name": "stdout",
     "output_type": "stream",
     "text": [
      "\n",
      "Example of Ham messages:\n",
      "['Go until jurong point, crazy.. Available only in bugis n great world la e buffet... Cine there got amore wat...'\n",
      " 'Ok lar... Joking wif u oni...'\n",
      " 'U dun say so early hor... U c already then say...']\n",
      "\n",
      "Example of Spam messages:\n",
      "[\"Free entry in 2 a wkly comp to win FA Cup final tkts 21st May 2005. Text FA to 87121 to receive entry question(std txt rate)T&C's apply 08452810075over18's\"\n",
      " \"FreeMsg Hey there darling it's been 3 week's now and no word back! I'd like some fun you up for it still? Tb ok! XxX std chgs to send, å£1.50 to rcv\"\n",
      " 'WINNER!! As a valued network customer you have been selected to receivea å£900 prize reward! To claim call 09061701461. Claim code KL341. Valid 12 hours only.']\n"
     ]
    }
   ],
   "source": [
    "# Look at some examples of spam and ham messages\n",
    "print(\"\\nExample of Ham messages:\")\n",
    "print(df[df['label'] == 'ham'].head(3)['message'].values)\n",
    "\n",
    "print(\"\\nExample of Spam messages:\")\n",
    "print(df[df['label'] == 'spam'].head(3)['message'].values)"
   ]
  },
  {
   "cell_type": "code",
   "execution_count": 12,
   "id": "5c3f8438",
   "metadata": {
    "execution": {
     "iopub.execute_input": "2025-04-16T17:06:58.453849Z",
     "iopub.status.busy": "2025-04-16T17:06:58.453574Z",
     "iopub.status.idle": "2025-04-16T17:06:58.458933Z",
     "shell.execute_reply": "2025-04-16T17:06:58.458330Z"
    },
    "papermill": {
     "duration": 0.019057,
     "end_time": "2025-04-16T17:06:58.460066",
     "exception": false,
     "start_time": "2025-04-16T17:06:58.441009",
     "status": "completed"
    },
    "tags": []
   },
   "outputs": [],
   "source": [
    "# Convert labels to binary format (1 for spam, 0 for ham)\n",
    "df['label_num'] = df['label'].map({'spam': 1, 'ham': 0})"
   ]
  },
  {
   "cell_type": "markdown",
   "id": "09086018",
   "metadata": {
    "papermill": {
     "duration": 0.010053,
     "end_time": "2025-04-16T17:06:58.480462",
     "exception": false,
     "start_time": "2025-04-16T17:06:58.470409",
     "status": "completed"
    },
    "tags": []
   },
   "source": [
    "### Phase 2: Text Preprocessing\n",
    "- Implement text cleaning functions:\n",
    "  - Convert to lowercase\n",
    "  - Remove punctuation and special characters\n",
    "  - Remove numbers (optional)\n",
    "  - Split into tokens (words)\n",
    "- Implement stop words removal\n",
    "- Create vocabulary (set of unique words across all messages)\n",
    "- Implement bag-of-words vectorization\n",
    "- Analyze word frequency distributions in spam vs. ham messages"
   ]
  },
  {
   "cell_type": "code",
   "execution_count": 13,
   "id": "2cda491b",
   "metadata": {
    "execution": {
     "iopub.execute_input": "2025-04-16T17:06:58.502137Z",
     "iopub.status.busy": "2025-04-16T17:06:58.501846Z",
     "iopub.status.idle": "2025-04-16T17:06:58.509937Z",
     "shell.execute_reply": "2025-04-16T17:06:58.509318Z"
    },
    "papermill": {
     "duration": 0.020354,
     "end_time": "2025-04-16T17:06:58.511038",
     "exception": false,
     "start_time": "2025-04-16T17:06:58.490684",
     "status": "completed"
    },
    "tags": []
   },
   "outputs": [],
   "source": [
    "# 3. Implementing Preprocessing Functions\n",
    "\n",
    "def tokenize_text(message):\n",
    "    \"\"\"\n",
    "    Convert a message to lowercase, remove punctuation, and split into words.\n",
    "    \n",
    "    Args:\n",
    "        message (str): The text message to tokenize\n",
    "        \n",
    "    Returns:\n",
    "        list: A list of tokens (words)\n",
    "    \"\"\"\n",
    "    # Convert to lowercase\n",
    "    message = message.lower()\n",
    "    \n",
    "    # Remove punctuation\n",
    "    message = re.sub(f'[{string.punctuation}]', ' ', message)\n",
    "    \n",
    "    # Remove numbers (optional, comment if you want to keep numbers)\n",
    "    message = re.sub(r'\\d+', '', message)\n",
    "    \n",
    "    # Split into words and remove extra whitespaces\n",
    "    tokens = message.split()\n",
    "    \n",
    "    return tokens\n",
    "\n",
    "# Define a list of English stop words\n",
    "STOP_WORDS = [\n",
    "    'i', 'me', 'my', 'myself', 'we', 'our', 'ours', 'ourselves', 'you', 'your', \n",
    "    'yours', 'yourself', 'yourselves', 'he', 'him', 'his', 'himself', 'she', \n",
    "    'her', 'hers', 'herself', 'it', 'its', 'itself', 'they', 'them', 'their', \n",
    "    'theirs', 'themselves', 'what', 'which', 'who', 'whom', 'this', 'that', \n",
    "    'these', 'those', 'am', 'is', 'are', 'was', 'were', 'be', 'been', 'being', \n",
    "    'have', 'has', 'had', 'having', 'do', 'does', 'did', 'doing', 'a', 'an', \n",
    "    'the', 'and', 'but', 'if', 'or', 'because', 'as', 'until', 'while', 'of', \n",
    "    'at', 'by', 'for', 'with', 'about', 'against', 'between', 'into', 'through', \n",
    "    'during', 'before', 'after', 'above', 'below', 'to', 'from', 'up', 'down', \n",
    "    'in', 'out', 'on', 'off', 'over', 'under', 'again', 'further', 'then', \n",
    "    'once', 'here', 'there', 'when', 'where', 'why', 'how', 'all', 'any', \n",
    "    'both', 'each', 'few', 'more', 'most', 'other', 'some', 'such', 'no', 'nor', \n",
    "    'not', 'only', 'own', 'same', 'so', 'than', 'too', 'very', 's', 't', 'can', \n",
    "    'will', 'just', 'don', 'should', 'now'\n",
    "]\n",
    "\n",
    "def remove_stopwords(tokens):\n",
    "    \"\"\"\n",
    "    Remove common stopwords from the token list.\n",
    "    \n",
    "    Args:\n",
    "        tokens (list): List of tokens (words)\n",
    "        \n",
    "    Returns:\n",
    "        list: Filtered list with stopwords removed\n",
    "    \"\"\"\n",
    "    return [word for word in tokens if word not in STOP_WORDS]"
   ]
  },
  {
   "cell_type": "code",
   "execution_count": 14,
   "id": "2207da24",
   "metadata": {
    "execution": {
     "iopub.execute_input": "2025-04-16T17:06:58.582050Z",
     "iopub.status.busy": "2025-04-16T17:06:58.581762Z",
     "iopub.status.idle": "2025-04-16T17:06:58.587102Z",
     "shell.execute_reply": "2025-04-16T17:06:58.586225Z"
    },
    "papermill": {
     "duration": 0.018073,
     "end_time": "2025-04-16T17:06:58.588496",
     "exception": false,
     "start_time": "2025-04-16T17:06:58.570423",
     "status": "completed"
    },
    "tags": []
   },
   "outputs": [
    {
     "name": "stdout",
     "output_type": "stream",
     "text": [
      "\n",
      "Preprocessing example:\n",
      "Original message: Hello! This is a sample message with some numbers 123. Is it working?\n",
      "After tokenization: ['hello', 'this', 'is', 'a', 'sample', 'message', 'with', 'some', 'numbers', 'is', 'it', 'working']\n",
      "After stopword removal: ['hello', 'sample', 'message', 'numbers', 'working']\n"
     ]
    }
   ],
   "source": [
    "# Test the preprocessing functions on a sample message\n",
    "sample_message = \"Hello! This is a sample message with some numbers 123. Is it working?\"\n",
    "tokens = tokenize_text(sample_message)\n",
    "filtered_tokens = remove_stopwords(tokens)\n",
    "\n",
    "print(\"\\nPreprocessing example:\")\n",
    "print(\"Original message:\", sample_message)\n",
    "print(\"After tokenization:\", tokens)\n",
    "print(\"After stopword removal:\", filtered_tokens)"
   ]
  },
  {
   "cell_type": "code",
   "execution_count": 15,
   "id": "6dd455df",
   "metadata": {
    "execution": {
     "iopub.execute_input": "2025-04-16T17:06:58.610983Z",
     "iopub.status.busy": "2025-04-16T17:06:58.610716Z",
     "iopub.status.idle": "2025-04-16T17:06:58.796028Z",
     "shell.execute_reply": "2025-04-16T17:06:58.794985Z"
    },
    "papermill": {
     "duration": 0.198301,
     "end_time": "2025-04-16T17:06:58.797535",
     "exception": false,
     "start_time": "2025-04-16T17:06:58.599234",
     "status": "completed"
    },
    "tags": []
   },
   "outputs": [
    {
     "name": "stdout",
     "output_type": "stream",
     "text": [
      "\n",
      "Example of preprocessed messages:\n",
      "Original: Go until jurong point, crazy.. Available only in bugis n great world la e buffet... Cine there got amore wat...\n",
      "Processed: ['go', 'jurong', 'point', 'crazy', 'available', 'bugis', 'n', 'great', 'world', 'la', 'e', 'buffet', 'cine', 'got', 'amore', 'wat']\n",
      "\n",
      "Original: Ok lar... Joking wif u oni...\n",
      "Processed: ['ok', 'lar', 'joking', 'wif', 'u', 'oni']\n",
      "\n",
      "Original: Free entry in 2 a wkly comp to win FA Cup final tkts 21st May 2005. Text FA to 87121 to receive entry question(std txt rate)T&C's apply 08452810075over18's\n",
      "Processed: ['free', 'entry', 'wkly', 'comp', 'win', 'fa', 'cup', 'final', 'tkts', 'st', 'may', 'text', 'fa', 'receive', 'entry', 'question', 'std', 'txt', 'rate', 'c', 'apply']\n",
      "\n"
     ]
    }
   ],
   "source": [
    "# Process all messages and display some examples of processed text\n",
    "df['tokens'] = df['message'].apply(tokenize_text)\n",
    "df['filtered_tokens'] = df['tokens'].apply(remove_stopwords)\n",
    "\n",
    "print(\"\\nExample of preprocessed messages:\")\n",
    "for i in range(3):\n",
    "    print(f\"Original: {df['message'].iloc[i]}\")\n",
    "    print(f\"Processed: {df['filtered_tokens'].iloc[i]}\")\n",
    "    print()"
   ]
  },
  {
   "cell_type": "code",
   "execution_count": 16,
   "id": "4958ecc0",
   "metadata": {
    "execution": {
     "iopub.execute_input": "2025-04-16T17:06:58.820359Z",
     "iopub.status.busy": "2025-04-16T17:06:58.819662Z",
     "iopub.status.idle": "2025-04-16T17:06:58.838311Z",
     "shell.execute_reply": "2025-04-16T17:06:58.837328Z"
    },
    "papermill": {
     "duration": 0.031174,
     "end_time": "2025-04-16T17:06:58.839541",
     "exception": false,
     "start_time": "2025-04-16T17:06:58.808367",
     "status": "completed"
    },
    "tags": []
   },
   "outputs": [
    {
     "name": "stdout",
     "output_type": "stream",
     "text": [
      "Vocabulary size: 7828 unique words\n",
      "\n",
      "Sample of vocabulary words:\n",
      "['grumpy', 'potato', 'onto', 'sometimes', 'ke', 'brolly', 'meaningful', 'resolution', 'rolled', 'ed', 'mind', 'costs', 'discuss', 'none', 'wasted', 'fired', 'cock', 'lyfu', 'bit', 'slippery']\n",
      "\n",
      "Most common words in the dataset:\n",
      "[('u', 1205), ('call', 593), ('m', 436), ('get', 394), ('ur', 381), ('gt', 318), ('lt', 316), ('å£', 298), ('ok', 292), ('free', 286), ('go', 284), ('ll', 263), ('know', 261), ('like', 245), ('good', 245), ('got', 238), ('day', 233), ('come', 229), ('time', 220), ('love', 209)]\n"
     ]
    }
   ],
   "source": [
    "# Create vocabulary (all unique words across all messages)\n",
    "def create_vocabulary(all_filtered_tokens):\n",
    "    \"\"\"\n",
    "    Create a vocabulary (set of unique words) from all tokenized messages.\n",
    "    \n",
    "    Args:\n",
    "        all_filtered_tokens (list): List of lists containing tokens from all messages\n",
    "        \n",
    "    Returns:\n",
    "        set: Set of unique words (vocabulary)\n",
    "    \"\"\"\n",
    "    vocabulary = set()\n",
    "    for tokens in all_filtered_tokens:\n",
    "        vocabulary.update(tokens)\n",
    "    return vocabulary\n",
    "\n",
    "# Create the vocabulary\n",
    "vocabulary = create_vocabulary(df['filtered_tokens'])\n",
    "print(f\"Vocabulary size: {len(vocabulary)} unique words\")\n",
    "\n",
    "# Look at some vocabulary words\n",
    "print(\"\\nSample of vocabulary words:\")\n",
    "print(list(vocabulary)[:20])\n",
    "\n",
    "# Now let's examine word frequency distribution\n",
    "all_words = []\n",
    "for tokens in df['filtered_tokens']:\n",
    "    all_words.extend(tokens)\n",
    "\n",
    "word_freq = Counter(all_words)\n",
    "print(\"\\nMost common words in the dataset:\")\n",
    "print(word_freq.most_common(20))"
   ]
  },
  {
   "cell_type": "code",
   "execution_count": 17,
   "id": "abb4205f",
   "metadata": {
    "execution": {
     "iopub.execute_input": "2025-04-16T17:06:58.861971Z",
     "iopub.status.busy": "2025-04-16T17:06:58.861719Z",
     "iopub.status.idle": "2025-04-16T17:06:59.166308Z",
     "shell.execute_reply": "2025-04-16T17:06:59.165483Z"
    },
    "papermill": {
     "duration": 0.317388,
     "end_time": "2025-04-16T17:06:59.167849",
     "exception": false,
     "start_time": "2025-04-16T17:06:58.850461",
     "status": "completed"
    },
    "tags": []
   },
   "outputs": [
    {
     "name": "stderr",
     "output_type": "stream",
     "text": [
      "/usr/local/lib/python3.11/dist-packages/seaborn/_oldcore.py:1765: FutureWarning: unique with argument that is not not a Series, Index, ExtensionArray, or np.ndarray is deprecated and will raise in a future version.\n",
      "  order = pd.unique(vector)\n"
     ]
    },
    {
     "data": {
      "image/png": "[encoded data removed]",
      "text/plain": [
       "<Figure size 1200x600 with 1 Axes>"
      ]
     },
     "metadata": {},
     "output_type": "display_data"
    }
   ],
   "source": [
    "# Visualize most common words\n",
    "plt.figure(figsize=(12, 6))\n",
    "common_words = dict(word_freq.most_common(20))\n",
    "sns.barplot(x=list(common_words.keys()), y=list(common_words.values()))\n",
    "plt.title('20 Most Common Words in SMS Messages')\n",
    "plt.xlabel('Words')\n",
    "plt.ylabel('Frequency')\n",
    "plt.xticks(rotation=45, ha='right')\n",
    "plt.tight_layout()\n",
    "plt.show()"
   ]
  },
  {
   "cell_type": "code",
   "execution_count": 18,
   "id": "76a661a0",
   "metadata": {
    "execution": {
     "iopub.execute_input": "2025-04-16T17:06:59.193272Z",
     "iopub.status.busy": "2025-04-16T17:06:59.192605Z",
     "iopub.status.idle": "2025-04-16T17:06:59.439432Z",
     "shell.execute_reply": "2025-04-16T17:06:59.438512Z"
    },
    "papermill": {
     "duration": 0.260636,
     "end_time": "2025-04-16T17:06:59.440803",
     "exception": false,
     "start_time": "2025-04-16T17:06:59.180167",
     "status": "completed"
    },
    "tags": []
   },
   "outputs": [
    {
     "name": "stdout",
     "output_type": "stream",
     "text": [
      "\n",
      "Most common words in SPAM messages:\n",
      "[('call', 357), ('å£', 294), ('free', 226), ('u', 181), ('txt', 170), ('p', 159), ('ur', 144), ('mobile', 128), ('text', 126), ('stop', 122), ('claim', 113), ('reply', 104), ('www', 98), ('prize', 93), ('get', 86), ('cash', 76), ('won', 76), ('uk', 73), ('nokia', 71), ('send', 70)]\n",
      "\n",
      "Most common words in HAM messages:\n",
      "[('u', 1024), ('m', 401), ('gt', 318), ('lt', 316), ('get', 308), ('ok', 287), ('ll', 259), ('go', 252), ('ur', 237), ('know', 236), ('call', 236), ('good', 233), ('like', 232), ('got', 231), ('come', 227), ('day', 209), ('time', 201), ('love', 199), ('going', 169), ('one', 167)]\n"
     ]
    }
   ],
   "source": [
    "# Let's also look at most common words in spam vs ham\n",
    "spam_words = []\n",
    "ham_words = []\n",
    "\n",
    "for i, row in df.iterrows():\n",
    "    if row['label'] == 'spam':\n",
    "        spam_words.extend(row['filtered_tokens'])\n",
    "    else:\n",
    "        ham_words.extend(row['filtered_tokens'])\n",
    "\n",
    "spam_word_freq = Counter(spam_words)\n",
    "ham_word_freq = Counter(ham_words)\n",
    "\n",
    "print(\"\\nMost common words in SPAM messages:\")\n",
    "print(spam_word_freq.most_common(20))\n",
    "\n",
    "print(\"\\nMost common words in HAM messages:\")\n",
    "print(ham_word_freq.most_common(20))"
   ]
  },
  {
   "cell_type": "code",
   "execution_count": 19,
   "id": "bcd326fd",
   "metadata": {
    "execution": {
     "iopub.execute_input": "2025-04-16T17:06:59.465572Z",
     "iopub.status.busy": "2025-04-16T17:06:59.465264Z",
     "iopub.status.idle": "2025-04-16T17:06:59.474159Z",
     "shell.execute_reply": "2025-04-16T17:06:59.473425Z"
    },
    "papermill": {
     "duration": 0.02251,
     "end_time": "2025-04-16T17:06:59.475422",
     "exception": false,
     "start_time": "2025-04-16T17:06:59.452912",
     "status": "completed"
    },
    "tags": []
   },
   "outputs": [
    {
     "name": "stdout",
     "output_type": "stream",
     "text": [
      "\n",
      "Bag of Words vectorization example:\n",
      "Original tokens: ['go', 'jurong', 'point', 'crazy', 'available', 'bugis', 'n', 'great', 'world', 'la', 'e', 'buffet', 'cine', 'got', 'amore', 'wat']\n",
      "Resulting vector (showing non-zero entries):\n",
      "{'great': 1, 'e': 1, 'jurong': 1, 'la': 1, 'amore': 1, 'world': 1, 'cine': 1, 'bugis': 1, 'wat': 1, 'available': 1, 'point': 1, 'buffet': 1, 'got': 1, 'crazy': 1, 'n': 1, 'go': 1}\n"
     ]
    }
   ],
   "source": [
    "# Create vectorization function (Bag of Words)\n",
    "def create_bow_vector(tokens, vocabulary):\n",
    "    \"\"\"\n",
    "    Create a bag-of-words vector for a message.\n",
    "    \n",
    "    Args:\n",
    "        tokens (list): List of tokens (words) in the message\n",
    "        vocabulary (set): Set of all unique words in the dataset\n",
    "        \n",
    "    Returns:\n",
    "        dict: Dictionary with word counts for the message\n",
    "    \"\"\"\n",
    "    # Initialize vector with zeros\n",
    "    bow_vector = {word: 0 for word in vocabulary}\n",
    "    \n",
    "    # Count word occurrences\n",
    "    word_counts = Counter(tokens)\n",
    "    \n",
    "    # Update the vector with word counts\n",
    "    for word, count in word_counts.items():\n",
    "        if word in vocabulary:  # Check if word is in vocabulary\n",
    "            bow_vector[word] = count\n",
    "    \n",
    "    return bow_vector\n",
    "\n",
    "# Test the vectorization function\n",
    "sample_tokens = df['filtered_tokens'].iloc[0]\n",
    "sample_bow = create_bow_vector(sample_tokens, vocabulary)\n",
    "\n",
    "print(\"\\nBag of Words vectorization example:\")\n",
    "print(\"Original tokens:\", sample_tokens)\n",
    "print(\"Resulting vector (showing non-zero entries):\")\n",
    "non_zero = {word: count for word, count in sample_bow.items() if count > 0}\n",
    "print(non_zero)"
   ]
  },
  {
   "cell_type": "markdown",
   "id": "a904395d",
   "metadata": {
    "papermill": {
     "duration": 0.011408,
     "end_time": "2025-04-16T17:06:59.498521",
     "exception": false,
     "start_time": "2025-04-16T17:06:59.487113",
     "status": "completed"
    },
    "tags": []
   },
   "source": [
    "### Phase 3: Naive Bayes Implementation\n",
    "- Implement MultinomialNaiveBayes class with the following methods:\n",
    "  - `__init__`: Initialize with smoothing parameter\n",
    "  - `fit`: Train the model on training data\n",
    "  - `calculate_priors`: Calculate prior probabilities P(Spam) and P(Ham)\n",
    "  - `calculate_word_probabilities`: Calculate conditional probabilities P(word|class)\n",
    "  - `predict_proba`: Calculate posterior probabilities using log probabilities\n",
    "  - `predict`: Generate class predictions\n",
    "- Implement Laplace smoothing to handle unseen words\n",
    "- Use logarithmic probabilities to avoid numerical underflow"
   ]
  },
  {
   "cell_type": "code",
   "execution_count": 20,
   "id": "4eac802d",
   "metadata": {
    "execution": {
     "iopub.execute_input": "2025-04-16T17:06:59.522987Z",
     "iopub.status.busy": "2025-04-16T17:06:59.522715Z",
     "iopub.status.idle": "2025-04-16T17:06:59.536822Z",
     "shell.execute_reply": "2025-04-16T17:06:59.536216Z"
    },
    "papermill": {
     "duration": 0.027871,
     "end_time": "2025-04-16T17:06:59.537998",
     "exception": false,
     "start_time": "2025-04-16T17:06:59.510127",
     "status": "completed"
    },
    "tags": []
   },
   "outputs": [],
   "source": [
    "## 3. Naive Bayes Implementation from Scratch\n",
    "\n",
    "class MultinomialNaiveBayes:\n",
    "    def __init__(self, alpha=1.0):\n",
    "        \"\"\"\n",
    "        Initialize the Multinomial Naive Bayes classifier.\n",
    "        \n",
    "        Args:\n",
    "            alpha (float): Smoothing parameter for Laplace smoothing.\n",
    "                           Default is 1.0 (Laplace smoothing).\n",
    "        \"\"\"\n",
    "        self.alpha = alpha  # Smoothing parameter\n",
    "        self.class_priors = {}  # Prior probabilities P(class)\n",
    "        self.word_probs = {}  # Conditional probabilities P(word|class)\n",
    "        self.classes = None  # List of unique classes\n",
    "        self.vocabulary = None  # Set of all unique words\n",
    "    \n",
    "    def fit(self, X_train, y_train):\n",
    "        \"\"\"\n",
    "        Train the Naive Bayes classifier.\n",
    "        \n",
    "        Args:\n",
    "            X_train (list): List of dictionaries, each containing word frequencies for a message\n",
    "            y_train (list): List of labels (0 for ham, 1 for spam)\n",
    "        \"\"\"\n",
    "        n_samples = len(y_train)\n",
    "        self.classes = np.unique(y_train)\n",
    "        \n",
    "        # Calculate prior probabilities P(class)\n",
    "        self.calculate_priors(y_train)\n",
    "        \n",
    "        # Store the vocabulary (unique words across all messages)\n",
    "        self.vocabulary = set()\n",
    "        for bow_vector in X_train:\n",
    "            self.vocabulary.update(bow_vector.keys())\n",
    "        \n",
    "        # Calculate word probabilities for each class\n",
    "        self.calculate_word_probabilities(X_train, y_train)\n",
    "        \n",
    "        return self\n",
    "    \n",
    "    def calculate_priors(self, y_train):\n",
    "        \"\"\"\n",
    "        Calculate prior probabilities for each class.\n",
    "        \n",
    "        Args:\n",
    "            y_train (list): List of labels\n",
    "        \"\"\"\n",
    "        n_samples = len(y_train)\n",
    "        # Count occurrences of each class\n",
    "        class_counts = Counter(y_train)\n",
    "        \n",
    "        # Calculate prior probabilities\n",
    "        for cls in self.classes:\n",
    "            self.class_priors[cls] = class_counts[cls] / n_samples\n",
    "    \n",
    "    def calculate_word_probabilities(self, X_train, y_train):\n",
    "        \"\"\"\n",
    "        Calculate conditional probabilities P(word|class) for all words in vocabulary.\n",
    "        \n",
    "        Args:\n",
    "            X_train (list): List of dictionaries containing word frequencies\n",
    "            y_train (list): List of labels\n",
    "        \"\"\"\n",
    "        # Initialize word counts for each class\n",
    "        word_counts = {cls: defaultdict(int) for cls in self.classes}\n",
    "        # Initialize total word counts for each class\n",
    "        total_counts = {cls: 0 for cls in self.classes}\n",
    "        \n",
    "        # Count word occurrences for each class\n",
    "        for i, bow_vector in enumerate(X_train):\n",
    "            cls = y_train[i]\n",
    "            for word, count in bow_vector.items():\n",
    "                word_counts[cls][word] += count\n",
    "                total_counts[cls] += count\n",
    "        \n",
    "        # Calculate conditional probabilities with Laplace smoothing\n",
    "        self.word_probs = {cls: {} for cls in self.classes}\n",
    "        \n",
    "        # Vocabulary size for Laplace smoothing\n",
    "        vocab_size = len(self.vocabulary)\n",
    "        \n",
    "        for cls in self.classes:\n",
    "            # Calculate denominator for smoothing: total words in class + alpha * vocabulary size\n",
    "            denominator = total_counts[cls] + self.alpha * vocab_size\n",
    "            \n",
    "            # Calculate probabilities for each word in vocabulary\n",
    "            for word in self.vocabulary:\n",
    "                # Apply Laplace smoothing: (word_count + alpha) / (total_count + alpha * vocab_size)\n",
    "                numerator = word_counts[cls].get(word, 0) + self.alpha\n",
    "                self.word_probs[cls][word] = numerator / denominator\n",
    "    \n",
    "    def predict_proba(self, X_test):\n",
    "        \"\"\"\n",
    "        Calculate posterior probabilities for each class.\n",
    "        \n",
    "        Args:\n",
    "            X_test (list): List of dictionaries containing word frequencies for test messages\n",
    "        \n",
    "        Returns:\n",
    "            list: List of predicted probabilities for each class\n",
    "        \"\"\"\n",
    "        # Check if model has been trained\n",
    "        if not self.word_probs:\n",
    "            raise ValueError(\"Model not fitted. Call 'fit' first.\")\n",
    "        \n",
    "        # List to store probabilities for each message\n",
    "        all_probs = []\n",
    "        \n",
    "        for bow_vector in X_test:\n",
    "            # Calculate log probabilities for each class\n",
    "            log_probs = {cls: np.log(prior) for cls, prior in self.class_priors.items()}\n",
    "            \n",
    "            # Add log of word probabilities for each word in the message\n",
    "            for word, count in bow_vector.items():\n",
    "                if word in self.vocabulary:  # Only consider words in training vocabulary\n",
    "                    for cls in self.classes:\n",
    "                        # Multiply probability by word count (equivalent to adding log probabilities)\n",
    "                        log_probs[cls] += count * np.log(self.word_probs[cls][word])\n",
    "            \n",
    "            # Convert log probabilities to actual probabilities\n",
    "            # First, find the maximum log probability to avoid numerical underflow\n",
    "            max_log_prob = max(log_probs.values())\n",
    "            \n",
    "            # Normalize and exponentiate\n",
    "            probs = {}\n",
    "            total_prob = 0\n",
    "            for cls, log_prob in log_probs.items():\n",
    "                probs[cls] = np.exp(log_prob - max_log_prob)\n",
    "                total_prob += probs[cls]\n",
    "            \n",
    "            # Normalize to get proper probabilities\n",
    "            for cls in probs:\n",
    "                probs[cls] /= total_prob if total_prob > 0 else 1\n",
    "            \n",
    "            all_probs.append(probs)\n",
    "        \n",
    "        return all_probs\n",
    "    \n",
    "    def predict(self, X_test):\n",
    "        \"\"\"\n",
    "        Predict class labels for test data.\n",
    "        \n",
    "        Args:\n",
    "            X_test (list): List of dictionaries containing word frequencies\n",
    "        \n",
    "        Returns:\n",
    "            list: Predicted labels for each message\n",
    "        \"\"\"\n",
    "        # Get probabilities for each class\n",
    "        all_probs = self.predict_proba(X_test)\n",
    "        \n",
    "        # Choose the class with highest probability for each message\n",
    "        predictions = []\n",
    "        for probs in all_probs:\n",
    "            predictions.append(max(probs, key=probs.get))\n",
    "        \n",
    "        return predictions"
   ]
  },
  {
   "cell_type": "markdown",
   "id": "b266bab4",
   "metadata": {
    "papermill": {
     "duration": 0.011224,
     "end_time": "2025-04-16T17:06:59.560942",
     "exception": false,
     "start_time": "2025-04-16T17:06:59.549718",
     "status": "completed"
    },
    "tags": []
   },
   "source": [
    "### Phase 4: Data Preparation\n",
    "- Split dataset into training (80%) and testing (20%) sets\n",
    "- Ensure balanced class representation in both sets\n",
    "- Convert messages to bag-of-words vectors\n",
    "- Prepare data structures for training"
   ]
  },
  {
   "cell_type": "code",
   "execution_count": 21,
   "id": "d256662b",
   "metadata": {
    "execution": {
     "iopub.execute_input": "2025-04-16T17:06:59.584817Z",
     "iopub.status.busy": "2025-04-16T17:06:59.584556Z",
     "iopub.status.idle": "2025-04-16T17:06:59.600238Z",
     "shell.execute_reply": "2025-04-16T17:06:59.599430Z"
    },
    "papermill": {
     "duration": 0.029226,
     "end_time": "2025-04-16T17:06:59.601558",
     "exception": false,
     "start_time": "2025-04-16T17:06:59.572332",
     "status": "completed"
    },
    "tags": []
   },
   "outputs": [
    {
     "name": "stdout",
     "output_type": "stream",
     "text": [
      "Training set size: 4457\n",
      "Testing set size: 1115\n"
     ]
    }
   ],
   "source": [
    "## 4. Prepare Training and Testing Data\n",
    "\n",
    "# Convert the messages to bag-of-words vectors\n",
    "def prepare_data(df, vocabulary=None):\n",
    "    \"\"\"\n",
    "    Prepare the data for training/testing by converting messages to bag-of-words vectors.\n",
    "    \n",
    "    Args:\n",
    "        df (DataFrame): DataFrame containing the messages and their tokens\n",
    "        vocabulary (set, optional): If provided, use this vocabulary instead of creating a new one\n",
    "    \n",
    "    Returns:\n",
    "        tuple: X (bag-of-words vectors), y (labels), and vocabulary\n",
    "    \"\"\"\n",
    "    # Create vocabulary if not provided\n",
    "    if vocabulary is None:\n",
    "        vocabulary = create_vocabulary(df['filtered_tokens'])\n",
    "    \n",
    "    # Convert messages to bag-of-words vectors\n",
    "    X = []\n",
    "    for tokens in df['filtered_tokens']:\n",
    "        X.append(create_bow_vector(tokens, vocabulary))\n",
    "    \n",
    "    # Get labels\n",
    "    y = df['label_num'].values\n",
    "    \n",
    "    return X, y, vocabulary\n",
    "\n",
    "# Split the data into training and testing sets\n",
    "def split_data(df, test_size=0.2, random_state=42):\n",
    "    \"\"\"\n",
    "    Split the data into training and testing sets.\n",
    "    \n",
    "    Args:\n",
    "        df (DataFrame): DataFrame containing the messages and labels\n",
    "        test_size (float): Proportion of the dataset to include in the test split\n",
    "        random_state (int): Random seed for reproducibility\n",
    "    \n",
    "    Returns:\n",
    "        tuple: train_df, test_df (DataFrames for training and testing)\n",
    "    \"\"\"\n",
    "    train_df, test_df = train_test_split(\n",
    "        df, \n",
    "        test_size=test_size, \n",
    "        random_state=random_state,\n",
    "        stratify=df['label']  # Ensure proportional representation of classes\n",
    "    )\n",
    "    \n",
    "    # Reset indices\n",
    "    train_df = train_df.reset_index(drop=True)\n",
    "    test_df = test_df.reset_index(drop=True)\n",
    "    \n",
    "    return train_df, test_df\n",
    "\n",
    "# Split the dataset\n",
    "train_df, test_df = split_data(df)\n",
    "\n",
    "print(f\"Training set size: {len(train_df)}\")\n",
    "print(f\"Testing set size: {len(test_df)}\")"
   ]
  },
  {
   "cell_type": "code",
   "execution_count": 22,
   "id": "96d58b0a",
   "metadata": {
    "execution": {
     "iopub.execute_input": "2025-04-16T17:06:59.626410Z",
     "iopub.status.busy": "2025-04-16T17:06:59.626122Z",
     "iopub.status.idle": "2025-04-16T17:06:59.633957Z",
     "shell.execute_reply": "2025-04-16T17:06:59.633129Z"
    },
    "papermill": {
     "duration": 0.021745,
     "end_time": "2025-04-16T17:06:59.635247",
     "exception": false,
     "start_time": "2025-04-16T17:06:59.613502",
     "status": "completed"
    },
    "tags": []
   },
   "outputs": [
    {
     "name": "stdout",
     "output_type": "stream",
     "text": [
      "\n",
      "Class distribution in training set:\n",
      "label\n",
      "ham     86.582903\n",
      "spam    13.417097\n",
      "Name: proportion, dtype: float64\n",
      "\n",
      "Class distribution in testing set:\n",
      "label\n",
      "ham     86.636771\n",
      "spam    13.363229\n",
      "Name: proportion, dtype: float64\n"
     ]
    }
   ],
   "source": [
    "# Check class distribution in splits\n",
    "print(\"\\nClass distribution in training set:\")\n",
    "print(train_df['label'].value_counts(normalize=True) * 100)\n",
    "\n",
    "print(\"\\nClass distribution in testing set:\")\n",
    "print(test_df['label'].value_counts(normalize=True) * 100)"
   ]
  },
  {
   "cell_type": "code",
   "execution_count": 23,
   "id": "cfeb9abc",
   "metadata": {
    "execution": {
     "iopub.execute_input": "2025-04-16T17:06:59.659899Z",
     "iopub.status.busy": "2025-04-16T17:06:59.659261Z",
     "iopub.status.idle": "2025-04-16T17:07:04.784423Z",
     "shell.execute_reply": "2025-04-16T17:07:04.783711Z"
    },
    "papermill": {
     "duration": 5.13893,
     "end_time": "2025-04-16T17:07:04.785930",
     "exception": false,
     "start_time": "2025-04-16T17:06:59.647000",
     "status": "completed"
    },
    "tags": []
   },
   "outputs": [],
   "source": [
    "# Prepare training and testing data\n",
    "X_train, y_train, vocabulary = prepare_data(train_df)\n",
    "X_test, y_test, _ = prepare_data(test_df, vocabulary)"
   ]
  },
  {
   "cell_type": "code",
   "execution_count": 24,
   "id": "85c3e871",
   "metadata": {
    "execution": {
     "iopub.execute_input": "2025-04-16T17:07:04.811052Z",
     "iopub.status.busy": "2025-04-16T17:07:04.810524Z",
     "iopub.status.idle": "2025-04-16T17:07:04.815108Z",
     "shell.execute_reply": "2025-04-16T17:07:04.814344Z"
    },
    "papermill": {
     "duration": 0.018048,
     "end_time": "2025-04-16T17:07:04.816234",
     "exception": false,
     "start_time": "2025-04-16T17:07:04.798186",
     "status": "completed"
    },
    "tags": []
   },
   "outputs": [
    {
     "name": "stdout",
     "output_type": "stream",
     "text": [
      "\n",
      "Number of training samples: 4457\n",
      "Number of testing samples: 1115\n",
      "Vocabulary size: 6952\n"
     ]
    }
   ],
   "source": [
    "# Validate data shapes\n",
    "print(f\"\\nNumber of training samples: {len(X_train)}\")\n",
    "print(f\"Number of testing samples: {len(X_test)}\")\n",
    "print(f\"Vocabulary size: {len(vocabulary)}\")"
   ]
  },
  {
   "cell_type": "markdown",
   "id": "cf0dae05",
   "metadata": {
    "papermill": {
     "duration": 0.011565,
     "end_time": "2025-04-16T17:07:04.839765",
     "exception": false,
     "start_time": "2025-04-16T17:07:04.828200",
     "status": "completed"
    },
    "tags": []
   },
   "source": [
    "### Phase 5: Training and Evaluation\n",
    "- Train the model on the training data\n",
    "- Generate predictions on test data\n",
    "- Implement comprehensive evaluation metrics:\n",
    "  - Confusion matrix\n",
    "  - Accuracy, precision, recall, F1-score\n",
    "  - ROC curve and AUC\n",
    "- Visualize results with confusion matrix heatmap and ROC curve\n",
    "- Identify most indicative words for spam and ham\n",
    "- Perform error analysis on misclassified messages"
   ]
  },
  {
   "cell_type": "code",
   "execution_count": 25,
   "id": "6a30d9e0",
   "metadata": {
    "execution": {
     "iopub.execute_input": "2025-04-16T17:07:04.864488Z",
     "iopub.status.busy": "2025-04-16T17:07:04.863983Z",
     "iopub.status.idle": "2025-04-16T17:08:23.785112Z",
     "shell.execute_reply": "2025-04-16T17:08:23.784214Z"
    },
    "papermill": {
     "duration": 78.935405,
     "end_time": "2025-04-16T17:08:23.786934",
     "exception": false,
     "start_time": "2025-04-16T17:07:04.851529",
     "status": "completed"
    },
    "tags": []
   },
   "outputs": [
    {
     "name": "stdout",
     "output_type": "stream",
     "text": [
      "\n",
      "Prior probabilities:\n",
      "Ham: 0.8658\n",
      "Spam: 0.1342\n"
     ]
    }
   ],
   "source": [
    "# 5. Train and Evaluate the Model\n",
    "\n",
    "# Train the Naive Bayes model\n",
    "nb_classifier = MultinomialNaiveBayes(alpha=1.0)  # Using Laplace smoothing with alpha=1.0\n",
    "nb_classifier.fit(X_train, y_train)\n",
    "\n",
    "# Calculate prior probabilities\n",
    "print(\"\\nPrior probabilities:\")\n",
    "for cls, prior in nb_classifier.class_priors.items():\n",
    "    class_name = \"Spam\" if cls == 1 else \"Ham\"\n",
    "    print(f\"{class_name}: {prior:.4f}\")\n",
    "\n",
    "# Make predictions on test data\n",
    "y_pred = nb_classifier.predict(X_test)\n",
    "\n",
    "# Get probability estimates\n",
    "y_pred_proba = nb_classifier.predict_proba(X_test)\n",
    "spam_probs = [probs[1] for probs in y_pred_proba]  # Extract spam probabilities"
   ]
  },
  {
   "cell_type": "code",
   "execution_count": 26,
   "id": "f673a63c",
   "metadata": {
    "execution": {
     "iopub.execute_input": "2025-04-16T17:08:23.812690Z",
     "iopub.status.busy": "2025-04-16T17:08:23.812397Z",
     "iopub.status.idle": "2025-04-16T17:08:23.829619Z",
     "shell.execute_reply": "2025-04-16T17:08:23.828969Z"
    },
    "papermill": {
     "duration": 0.031323,
     "end_time": "2025-04-16T17:08:23.830990",
     "exception": false,
     "start_time": "2025-04-16T17:08:23.799667",
     "status": "completed"
    },
    "tags": []
   },
   "outputs": [],
   "source": [
    "# 6. Evaluation metrics\n",
    "def evaluate_model(y_true, y_pred, y_pred_proba=None):\n",
    "    \"\"\"\n",
    "    Evaluate the model using various metrics.\n",
    "    \n",
    "    Args:\n",
    "        y_true (array): True labels\n",
    "        y_pred (array): Predicted labels\n",
    "        y_pred_proba (array, optional): Predicted probabilities for the positive class\n",
    "    \n",
    "    Returns:\n",
    "        dict: Dictionary containing evaluation metrics\n",
    "    \"\"\"\n",
    "    # Calculate confusion matrix\n",
    "    cm = confusion_matrix(y_true, y_pred)\n",
    "    \n",
    "    # Calculate metrics\n",
    "    accuracy = accuracy_score(y_true, y_pred)\n",
    "    precision = precision_score(y_true, y_pred)\n",
    "    recall = recall_score(y_true, y_pred)\n",
    "    f1 = f1_score(y_true, y_pred)\n",
    "    \n",
    "    # Calculate ROC curve and AUC if probabilities are provided\n",
    "    roc_auc = None\n",
    "    if y_pred_proba is not None:\n",
    "        fpr, tpr, _ = roc_curve(y_true, y_pred_proba)\n",
    "        roc_auc = auc(fpr, tpr)\n",
    "    \n",
    "    # Store results in dictionary\n",
    "    results = {\n",
    "        'confusion_matrix': cm,\n",
    "        'accuracy': accuracy,\n",
    "        'precision': precision,\n",
    "        'recall': recall,\n",
    "        'f1_score': f1,\n",
    "        'roc_auc': roc_auc,\n",
    "        'fpr': fpr if roc_auc is not None else None,\n",
    "        'tpr': tpr if roc_auc is not None else None\n",
    "    }\n",
    "    \n",
    "    return results\n",
    "\n",
    "# Evaluate the model\n",
    "evaluation = evaluate_model(y_test, y_pred, spam_probs)\n"
   ]
  },
  {
   "cell_type": "code",
   "execution_count": 27,
   "id": "d9b96077",
   "metadata": {
    "execution": {
     "iopub.execute_input": "2025-04-16T17:08:23.856004Z",
     "iopub.status.busy": "2025-04-16T17:08:23.855744Z",
     "iopub.status.idle": "2025-04-16T17:08:23.860732Z",
     "shell.execute_reply": "2025-04-16T17:08:23.859851Z"
    },
    "papermill": {
     "duration": 0.018808,
     "end_time": "2025-04-16T17:08:23.862014",
     "exception": false,
     "start_time": "2025-04-16T17:08:23.843206",
     "status": "completed"
    },
    "tags": []
   },
   "outputs": [
    {
     "name": "stdout",
     "output_type": "stream",
     "text": [
      "\n",
      "Evaluation Metrics:\n",
      "Accuracy: 0.9874\n",
      "Precision: 0.9720\n",
      "Recall: 0.9329\n",
      "F1-score: 0.9521\n",
      "ROC AUC: 0.9842\n"
     ]
    }
   ],
   "source": [
    "# Print evaluation metrics\n",
    "print(\"\\nEvaluation Metrics:\")\n",
    "print(f\"Accuracy: {evaluation['accuracy']:.4f}\")\n",
    "print(f\"Precision: {evaluation['precision']:.4f}\")\n",
    "print(f\"Recall: {evaluation['recall']:.4f}\")\n",
    "print(f\"F1-score: {evaluation['f1_score']:.4f}\")\n",
    "print(f\"ROC AUC: {evaluation['roc_auc']:.4f}\")\n"
   ]
  },
  {
   "cell_type": "code",
   "execution_count": 28,
   "id": "a33372a3",
   "metadata": {
    "execution": {
     "iopub.execute_input": "2025-04-16T17:08:23.886546Z",
     "iopub.status.busy": "2025-04-16T17:08:23.886265Z",
     "iopub.status.idle": "2025-04-16T17:08:24.231664Z",
     "shell.execute_reply": "2025-04-16T17:08:24.230856Z"
    },
    "papermill": {
     "duration": 0.359096,
     "end_time": "2025-04-16T17:08:24.233017",
     "exception": false,
     "start_time": "2025-04-16T17:08:23.873921",
     "status": "completed"
    },
    "tags": []
   },
   "outputs": [
    {
     "data": {
      "image/png": "[encoded data removed]",
      "text/plain": [
       "<Figure size 800x600 with 2 Axes>"
      ]
     },
     "metadata": {},
     "output_type": "display_data"
    },
    {
     "data": {
      "image/png": "[encoded data removed]",
      "text/plain": [
       "<Figure size 800x600 with 1 Axes>"
      ]
     },
     "metadata": {},
     "output_type": "display_data"
    }
   ],
   "source": [
    "# 7. Visualize Results\n",
    "\n",
    "# Plot confusion matrix\n",
    "plt.figure(figsize=(8, 6))\n",
    "cm = evaluation['confusion_matrix']\n",
    "sns.heatmap(\n",
    "    cm, \n",
    "    annot=True, \n",
    "    fmt='d', \n",
    "    cmap='Blues',\n",
    "    xticklabels=['Ham', 'Spam'],\n",
    "    yticklabels=['Ham', 'Spam']\n",
    ")\n",
    "plt.title('Confusion Matrix')\n",
    "plt.xlabel('Predicted Label')\n",
    "plt.ylabel('True Label')\n",
    "plt.show()\n",
    "\n",
    "# Plot ROC curve\n",
    "plt.figure(figsize=(8, 6))\n",
    "fpr, tpr = evaluation['fpr'], evaluation['tpr']\n",
    "plt.plot(fpr, tpr, color='darkorange', lw=2, label=f'ROC curve (area = {evaluation[\"roc_auc\"]:.2f})')\n",
    "plt.plot([0, 1], [0, 1], color='navy', lw=2, linestyle='--')\n",
    "plt.xlim([0.0, 1.0])\n",
    "plt.ylim([0.0, 1.05])\n",
    "plt.xlabel('False Positive Rate')\n",
    "plt.ylabel('True Positive Rate')\n",
    "plt.title('Receiver Operating Characteristic (ROC) Curve')\n",
    "plt.legend(loc=\"lower right\")\n",
    "plt.show()"
   ]
  },
  {
   "cell_type": "code",
   "execution_count": 29,
   "id": "ee460dd7",
   "metadata": {
    "execution": {
     "iopub.execute_input": "2025-04-16T17:08:24.260467Z",
     "iopub.status.busy": "2025-04-16T17:08:24.260097Z",
     "iopub.status.idle": "2025-04-16T17:08:24.277066Z",
     "shell.execute_reply": "2025-04-16T17:08:24.276111Z"
    },
    "papermill": {
     "duration": 0.031845,
     "end_time": "2025-04-16T17:08:24.278357",
     "exception": false,
     "start_time": "2025-04-16T17:08:24.246512",
     "status": "completed"
    },
    "tags": []
   },
   "outputs": [
    {
     "name": "stdout",
     "output_type": "stream",
     "text": [
      "\n",
      "Top indicative words for SPAM:\n",
      "claim: 223.3706\n",
      "prize: 159.8863\n",
      "å£: 136.3736\n",
      "tone: 110.5097\n",
      "cs: 94.0508\n",
      "ppm: 91.6995\n",
      "guaranteed: 89.3482\n",
      "uk: 74.0650\n",
      "awarded: 65.8355\n",
      "www: 64.2680\n",
      "pobox: 63.4843\n",
      "collection: 61.1330\n",
      "award: 58.7817\n",
      "rate: 58.7817\n",
      "ringtone: 58.7817\n",
      "entry: 51.7279\n",
      "mob: 51.7279\n",
      "sae: 49.3767\n",
      "p: 48.9848\n",
      "vouchers: 47.0254\n",
      "\n",
      "Top indicative words for HAM:\n",
      "gt: 0.0090\n",
      "lt: 0.0091\n",
      "lor: 0.0181\n",
      "later: 0.0201\n",
      "ì: 0.0256\n",
      "ll: 0.0321\n",
      "say: 0.0336\n",
      "ask: 0.0341\n",
      "really: 0.0341\n",
      "home: 0.0343\n",
      "anything: 0.0346\n",
      "amp: 0.0346\n",
      "da: 0.0362\n",
      "morning: 0.0385\n",
      "something: 0.0385\n",
      "said: 0.0385\n",
      "lol: 0.0392\n",
      "sure: 0.0399\n",
      "come: 0.0410\n",
      "cos: 0.0413\n"
     ]
    }
   ],
   "source": [
    "# Find most indicative words for each class\n",
    "def get_most_indicative_words(word_probs, num_words=20):\n",
    "    \"\"\"\n",
    "    Find the most indicative words for each class.\n",
    "    \n",
    "    Args:\n",
    "        word_probs (dict): Dictionary of word probabilities by class\n",
    "        num_words (int): Number of top words to return\n",
    "    \n",
    "    Returns:\n",
    "        dict: Dictionary with top indicative words for each class\n",
    "    \"\"\"\n",
    "    # Calculate word importance (ratio of probabilities)\n",
    "    word_importance = {}\n",
    "    for word in word_probs[1].keys():  # Assuming class 1 is spam\n",
    "        # Calculate ratio: P(word|spam) / P(word|ham)\n",
    "        ratio = word_probs[1][word] / word_probs[0][word]\n",
    "        word_importance[word] = ratio\n",
    "    \n",
    "    # Get top spam words (highest ratio)\n",
    "    top_spam_words = sorted(word_importance.items(), key=lambda x: x[1], reverse=True)[:num_words]\n",
    "    \n",
    "    # Get top ham words (lowest ratio)\n",
    "    top_ham_words = sorted(word_importance.items(), key=lambda x: x[1])[:num_words]\n",
    "    \n",
    "    return {\n",
    "        'spam': top_spam_words,\n",
    "        'ham': top_ham_words\n",
    "    }\n",
    "\n",
    "# Get most indicative words\n",
    "indicative_words = get_most_indicative_words(nb_classifier.word_probs)\n",
    "\n",
    "print(\"\\nTop indicative words for SPAM:\")\n",
    "for word, ratio in indicative_words['spam']:\n",
    "    print(f\"{word}: {ratio:.4f}\")\n",
    "\n",
    "print(\"\\nTop indicative words for HAM:\")\n",
    "for word, ratio in indicative_words['ham']:\n",
    "    print(f\"{word}: {ratio:.4f}\")"
   ]
  },
  {
   "cell_type": "code",
   "execution_count": 30,
   "id": "39d1b8c0",
   "metadata": {
    "execution": {
     "iopub.execute_input": "2025-04-16T17:08:24.305631Z",
     "iopub.status.busy": "2025-04-16T17:08:24.305367Z",
     "iopub.status.idle": "2025-04-16T17:08:24.955039Z",
     "shell.execute_reply": "2025-04-16T17:08:24.954214Z"
    },
    "papermill": {
     "duration": 0.664889,
     "end_time": "2025-04-16T17:08:24.956554",
     "exception": false,
     "start_time": "2025-04-16T17:08:24.291665",
     "status": "completed"
    },
    "tags": []
   },
   "outputs": [
    {
     "name": "stderr",
     "output_type": "stream",
     "text": [
      "/usr/local/lib/python3.11/dist-packages/seaborn/_oldcore.py:1765: FutureWarning: unique with argument that is not not a Series, Index, ExtensionArray, or np.ndarray is deprecated and will raise in a future version.\n",
      "  order = pd.unique(vector)\n",
      "/usr/local/lib/python3.11/dist-packages/seaborn/_oldcore.py:1765: FutureWarning: unique with argument that is not not a Series, Index, ExtensionArray, or np.ndarray is deprecated and will raise in a future version.\n",
      "  order = pd.unique(vector)\n"
     ]
    },
    {
     "data": {
      "image/png": "[encoded data removed]",
      "text/plain": [
       "<Figure size 1600x1000 with 2 Axes>"
      ]
     },
     "metadata": {},
     "output_type": "display_data"
    }
   ],
   "source": [
    "# Visualize most indicative words\n",
    "plt.figure(figsize=(16, 10))\n",
    "\n",
    "# Spam words\n",
    "plt.subplot(1, 2, 1)\n",
    "spam_words = [word for word, _ in indicative_words['spam']]\n",
    "spam_values = [ratio for _, ratio in indicative_words['spam']]\n",
    "sns.barplot(x=spam_values, y=spam_words)\n",
    "plt.title('Top Indicative Words for SPAM')\n",
    "plt.xlabel('Importance Ratio (P(word|spam) / P(word|ham))')\n",
    "\n",
    "# Ham words\n",
    "plt.subplot(1, 2, 2)\n",
    "ham_words = [word for word, _ in indicative_words['ham']]\n",
    "ham_values = [ratio for _, ratio in indicative_words['ham']]\n",
    "sns.barplot(x=ham_values, y=ham_words)\n",
    "plt.title('Top Indicative Words for HAM')\n",
    "plt.xlabel('Importance Ratio (P(word|spam) / P(word|ham))')\n",
    "\n",
    "plt.tight_layout()\n",
    "plt.show()"
   ]
  },
  {
   "cell_type": "markdown",
   "id": "2aba2a20",
   "metadata": {
    "papermill": {
     "duration": 0.014426,
     "end_time": "2025-04-16T17:08:24.986501",
     "exception": false,
     "start_time": "2025-04-16T17:08:24.972075",
     "status": "completed"
    },
    "tags": []
   },
   "source": [
    "### Phase 6: Model Refinement and Analysis\n",
    "- Experiment with different Laplace smoothing parameters\n",
    "- Visualize effect of smoothing on model performance\n",
    "- Implement a message classification function for new examples\n",
    "- Provide detailed classification explanations with influential words"
   ]
  },
  {
   "cell_type": "code",
   "execution_count": 31,
   "id": "707ba6dc",
   "metadata": {
    "execution": {
     "iopub.execute_input": "2025-04-16T17:08:25.016491Z",
     "iopub.status.busy": "2025-04-16T17:08:25.016168Z",
     "iopub.status.idle": "2025-04-16T17:08:25.023346Z",
     "shell.execute_reply": "2025-04-16T17:08:25.022426Z"
    },
    "papermill": {
     "duration": 0.023707,
     "end_time": "2025-04-16T17:08:25.024629",
     "exception": false,
     "start_time": "2025-04-16T17:08:25.000922",
     "status": "completed"
    },
    "tags": []
   },
   "outputs": [
    {
     "name": "stdout",
     "output_type": "stream",
     "text": [
      "\n",
      "Number of misclassified messages: 14 out of 1115\n",
      "\n",
      "Examples of misclassified messages:\n",
      "Example 1:\n",
      "Message: Just taste fish curry :-P\n",
      "True label: Ham, Predicted label: Spam\n",
      "Spam probability: 0.9250\n",
      "\n",
      "Example 2:\n",
      "Message: Sorry I missed your call let's talk when you have the time. I'm on 07090201529\n",
      "True label: Spam, Predicted label: Ham\n",
      "Spam probability: 0.0000\n",
      "\n",
      "Example 3:\n",
      "Message: Latest News! Police station toilet stolen, cops have nothing to go on!\n",
      "True label: Spam, Predicted label: Ham\n",
      "Spam probability: 0.0839\n",
      "\n",
      "Example 4:\n",
      "Message: Can U get 2 phone NOW? I wanna chat 2 set up meet Call me NOW on 09096102316 U can cum here 2moro Luv JANE xx Callså£1/minmoremobsEMSPOBox45PO139WA\n",
      "True label: Spam, Predicted label: Ham\n",
      "Spam probability: 0.3001\n",
      "\n",
      "Example 5:\n",
      "Message: Unlimited texts. Limited minutes.\n",
      "True label: Ham, Predicted label: Spam\n",
      "Spam probability: 0.7569\n",
      "\n"
     ]
    }
   ],
   "source": [
    "#  Model Refinement and Error Analysis\n",
    "\n",
    "# Find misclassified messages\n",
    "misclassified_indices = [i for i, (true, pred) in enumerate(zip(y_test, y_pred)) if true != pred]\n",
    "\n",
    "print(f\"\\nNumber of misclassified messages: {len(misclassified_indices)} out of {len(y_test)}\")\n",
    "\n",
    "# Examine some misclassified examples\n",
    "print(\"\\nExamples of misclassified messages:\")\n",
    "for i, idx in enumerate(misclassified_indices[:5]):  # Show first 5 misclassified messages\n",
    "    true_label = \"Spam\" if y_test[idx] == 1 else \"Ham\"\n",
    "    pred_label = \"Spam\" if y_pred[idx] == 1 else \"Ham\"\n",
    "    message = test_df['message'].iloc[idx]\n",
    "    spam_prob = y_pred_proba[idx][1]\n",
    "    \n",
    "    print(f\"Example {i+1}:\")\n",
    "    print(f\"Message: {message}\")\n",
    "    print(f\"True label: {true_label}, Predicted label: {pred_label}\")\n",
    "    print(f\"Spam probability: {spam_prob:.4f}\")\n",
    "    print()"
   ]
  },
  {
   "cell_type": "code",
   "execution_count": 32,
   "id": "be7021e8",
   "metadata": {
    "execution": {
     "iopub.execute_input": "2025-04-16T17:08:25.054356Z",
     "iopub.status.busy": "2025-04-16T17:08:25.053928Z",
     "iopub.status.idle": "2025-04-16T17:12:56.683985Z",
     "shell.execute_reply": "2025-04-16T17:12:56.683119Z"
    },
    "papermill": {
     "duration": 271.646903,
     "end_time": "2025-04-16T17:12:56.685857",
     "exception": false,
     "start_time": "2025-04-16T17:08:25.038954",
     "status": "completed"
    },
    "tags": []
   },
   "outputs": [],
   "source": [
    "# Experiment with different Laplace smoothing parameters\n",
    "def test_alpha_values(X_train, y_train, X_test, y_test, alphas):\n",
    "    \"\"\"\n",
    "    Test different alpha values for Laplace smoothing.\n",
    "    \n",
    "    Args:\n",
    "        X_train, y_train: Training data\n",
    "        X_test, y_test: Testing data\n",
    "        alphas (list): List of alpha values to test\n",
    "    \n",
    "    Returns:\n",
    "        dict: Results for each alpha value\n",
    "    \"\"\"\n",
    "    results = {}\n",
    "    \n",
    "    for alpha in alphas:\n",
    "        # Train model with current alpha\n",
    "        model = MultinomialNaiveBayes(alpha=alpha)\n",
    "        model.fit(X_train, y_train)\n",
    "        \n",
    "        # Make predictions\n",
    "        y_pred = model.predict(X_test)\n",
    "        \n",
    "        # Calculate metrics\n",
    "        accuracy = accuracy_score(y_test, y_pred)\n",
    "        precision = precision_score(y_test, y_pred)\n",
    "        recall = recall_score(y_test, y_pred)\n",
    "        f1 = f1_score(y_test, y_pred)\n",
    "        \n",
    "        # Store results\n",
    "        results[alpha] = {\n",
    "            'accuracy': accuracy,\n",
    "            'precision': precision,\n",
    "            'recall': recall,\n",
    "            'f1_score': f1\n",
    "        }\n",
    "    \n",
    "    return results\n",
    "\n",
    "# Test different alpha values\n",
    "alphas = [0.1, 0.5, 1.0, 2.0, 5.0, 10.0]\n",
    "alpha_results = test_alpha_values(X_train, y_train, X_test, y_test, alphas)"
   ]
  },
  {
   "cell_type": "code",
   "execution_count": 33,
   "id": "1a4ac478",
   "metadata": {
    "execution": {
     "iopub.execute_input": "2025-04-16T17:12:56.717062Z",
     "iopub.status.busy": "2025-04-16T17:12:56.716368Z",
     "iopub.status.idle": "2025-04-16T17:12:56.722076Z",
     "shell.execute_reply": "2025-04-16T17:12:56.720918Z"
    },
    "papermill": {
     "duration": 0.022578,
     "end_time": "2025-04-16T17:12:56.723562",
     "exception": false,
     "start_time": "2025-04-16T17:12:56.700984",
     "status": "completed"
    },
    "tags": []
   },
   "outputs": [
    {
     "name": "stdout",
     "output_type": "stream",
     "text": [
      "\n",
      "Results for different Laplace smoothing parameters (alpha):\n",
      "Alpha = 0.1:\n",
      "  - Accuracy: 0.9857\n",
      "  - Precision: 0.9586\n",
      "  - Recall: 0.9329\n",
      "  - F1-score: 0.9456\n",
      "\n",
      "Alpha = 0.5:\n",
      "  - Accuracy: 0.9874\n",
      "  - Precision: 0.9655\n",
      "  - Recall: 0.9396\n",
      "  - F1-score: 0.9524\n",
      "\n",
      "Alpha = 1.0:\n",
      "  - Accuracy: 0.9874\n",
      "  - Precision: 0.9720\n",
      "  - Recall: 0.9329\n",
      "  - F1-score: 0.9521\n",
      "\n",
      "Alpha = 2.0:\n",
      "  - Accuracy: 0.9839\n",
      "  - Precision: 0.9712\n",
      "  - Recall: 0.9060\n",
      "  - F1-score: 0.9375\n",
      "\n",
      "Alpha = 5.0:\n",
      "  - Accuracy: 0.9785\n",
      "  - Precision: 0.9771\n",
      "  - Recall: 0.8591\n",
      "  - F1-score: 0.9143\n",
      "\n",
      "Alpha = 10.0:\n",
      "  - Accuracy: 0.9740\n",
      "  - Precision: 0.9918\n",
      "  - Recall: 0.8121\n",
      "  - F1-score: 0.8930\n",
      "\n"
     ]
    }
   ],
   "source": [
    "# Print results for different alpha values\n",
    "print(\"\\nResults for different Laplace smoothing parameters (alpha):\")\n",
    "for alpha, metrics in alpha_results.items():\n",
    "    print(f\"Alpha = {alpha}:\")\n",
    "    print(f\"  - Accuracy: {metrics['accuracy']:.4f}\")\n",
    "    print(f\"  - Precision: {metrics['precision']:.4f}\")\n",
    "    print(f\"  - Recall: {metrics['recall']:.4f}\")\n",
    "    print(f\"  - F1-score: {metrics['f1_score']:.4f}\")\n",
    "    print()"
   ]
  },
  {
   "cell_type": "code",
   "execution_count": 34,
   "id": "8bc22439",
   "metadata": {
    "execution": {
     "iopub.execute_input": "2025-04-16T17:12:56.754001Z",
     "iopub.status.busy": "2025-04-16T17:12:56.753716Z",
     "iopub.status.idle": "2025-04-16T17:12:57.171079Z",
     "shell.execute_reply": "2025-04-16T17:12:57.170348Z"
    },
    "papermill": {
     "duration": 0.435396,
     "end_time": "2025-04-16T17:12:57.173416",
     "exception": false,
     "start_time": "2025-04-16T17:12:56.738020",
     "status": "completed"
    },
    "tags": []
   },
   "outputs": [
    {
     "data": {
      "image/png": "[encoded data removed]",
      "text/plain": [
       "<Figure size 1200x800 with 1 Axes>"
      ]
     },
     "metadata": {},
     "output_type": "display_data"
    }
   ],
   "source": [
    "# Visualize effect of alpha on metrics\n",
    "plt.figure(figsize=(12, 8))\n",
    "\n",
    "# Plot each metric\n",
    "metrics = ['accuracy', 'precision', 'recall', 'f1_score']\n",
    "for metric in metrics:\n",
    "    values = [results[metric] for results in alpha_results.values()]\n",
    "    plt.plot(alphas, values, marker='o', label=metric)\n",
    "\n",
    "plt.xscale('log')\n",
    "plt.xlabel('Alpha (Smoothing Parameter)')\n",
    "plt.ylabel('Score')\n",
    "plt.title('Effect of Smoothing Parameter on Model Performance')\n",
    "plt.legend()\n",
    "plt.grid(True)\n",
    "plt.show()"
   ]
  },
  {
   "cell_type": "markdown",
   "id": "98b1c883",
   "metadata": {
    "papermill": {
     "duration": 0.015391,
     "end_time": "2025-04-16T17:12:57.205183",
     "exception": false,
     "start_time": "2025-04-16T17:12:57.189792",
     "status": "completed"
    },
    "tags": []
   },
   "source": [
    "### Bayes' Theorem: Mathematical Foundation for Naive Bayes\n",
    "\n",
    "#### The Mathematical Formula\n",
    "\n",
    "Bayes' Theorem is a fundamental formula in probability theory that describes the probability of an event \n",
    "based on prior knowledge of conditions that might be related to the event. The theorem is expressed as:\n",
    "\n",
    "P(A|B) = P(B|A) × P(A) / P(B)\n",
    "\n",
    "Where:\n",
    "- P(A|B) is the posterior probability: the probability of hypothesis A given the evidence B\n",
    "- P(B|A) is the likelihood: the probability of evidence B given the hypothesis A\n",
    "- P(A) is the prior probability: the initial probability of hypothesis A\n",
    "- P(B) is the marginal likelihood: the total probability of evidence B\n",
    "\n",
    "#### Intuition Behind Conditional Probability\n",
    "\n",
    "Conditional probability measures the probability of an event occurring given that another event has already occurred. \n",
    "It represents updated beliefs based on new evidence.\n",
    "\n",
    "Think of it this way: If you're trying to determine whether it will rain (event A) and you notice dark clouds (event B), \n",
    "your estimate of rain probability changes because of this new evidence. The initial probability of rain P(A) is updated \n",
    "to P(A|B) - the probability of rain given dark clouds.\n",
    "\n",
    "#### Real-World Example: Spam Detection\n",
    "\n",
    "Let's apply Bayes' Theorem to our spam detection problem:\n",
    "\n",
    "- We want to find P(Spam|Message): the probability that a message is spam given its content\n",
    "- We can calculate this using: P(Spam|Message) = P(Message|Spam) × P(Spam) / P(Message)\n",
    "\n",
    "Breaking this down:\n",
    "1. P(Spam) is the prior probability of any message being spam (e.g., 13% of all messages are spam)\n",
    "2. P(Message|Spam) is the likelihood of seeing this specific message content if it's spam\n",
    "3. P(Message) is the overall probability of seeing this message content\n",
    "4. P(Spam|Message) is our answer: the probability this specific message is spam\n",
    "\n",
    "For example, if the word \"free\" appears in 60% of spam messages but only 5% of legitimate messages:\n",
    "- P(\"free\"|Spam) = 0.6\n",
    "- P(\"free\"|Ham) = 0.05\n",
    "- P(Spam) = 0.13 (13% of messages are spam)\n",
    "- P(Ham) = 0.87 (87% of messages are legitimate)\n",
    "\n",
    "For a message containing just the word \"free\":\n",
    "P(Spam|\"free\") = P(\"free\"|Spam) × P(Spam) / P(\"free\")\n",
    "                = 0.6 × 0.13 / [0.6 × 0.13 + 0.05 × 0.87]\n",
    "                ≈ 0.6 × 0.13 / 0.122\n",
    "                ≈ 0.64 (64% probability of being spam)\n",
    "\n",
    "#### Naive Bayes Algorithm: Applying Bayes' Theorem to Classification\n",
    "\n",
    "The Naive Bayes algorithm extends Bayes' Theorem to handle multiple pieces of evidence (features). \n",
    "For text classification, each word in a message is considered a feature.\n",
    "\n",
    "For a message with words w₁, w₂, ..., wₙ, we want to find:\n",
    "P(Spam|w₁, w₂, ..., wₙ)\n",
    "\n",
    "Using Bayes' Theorem:\n",
    "P(Spam|w₁, w₂, ..., wₙ) = P(w₁, w₂, ..., wₙ|Spam) × P(Spam) / P(w₁, w₂, ..., wₙ)\n",
    "\n",
    "#### The \"Naive\" Assumption: Feature Independence\n",
    "\n",
    "Here's where the \"naive\" part comes in: the algorithm assumes all features (words) are conditionally independent \n",
    "given the class. This means the presence of one word doesn't affect the probability of another word appearing.\n",
    "\n",
    "This allows us to calculate the joint probability by multiplying individual probabilities:\n",
    "P(w₁, w₂, ..., wₙ|Spam) = P(w₁|Spam) × P(w₂|Spam) × ... × P(wₙ|Spam)\n",
    "\n",
    "So our Naive Bayes formula becomes:\n",
    "P(Spam|w₁, w₂, ..., wₙ) = P(Spam) × ∏ P(wᵢ|Spam) / P(w₁, w₂, ..., wₙ)\n",
    "\n",
    "Since P(w₁, w₂, ..., wₙ) is the same for both spam and ham calculations, we can simply compare:\n",
    "P(Spam) × ∏ P(wᵢ|Spam) versus P(Ham) × ∏ P(wᵢ|Ham)\n",
    "\n",
    "And classify the message based on which probability is higher.\n",
    "\n",
    "#### Why the Independence Assumption Works for Text\n",
    "\n",
    "In reality, words in natural language are not independent. Phrases like \"New York\" or \"machine learning\" \n",
    "contain words that commonly appear together. Yet, surprisingly, the Naive Bayes algorithm performs well \n",
    "despite this violated assumption.\n",
    "\n",
    "This works because:\n",
    "1. We don't need precise probability estimates, just to get the ranking right\n",
    "2. Classification only depends on which class has the highest probability, not the exact values\n",
    "3. The conditional independence assumption, while incorrect, often doesn't change this ranking\n",
    "4. For text classification, there are so many features (words) that the violations of independence \n",
    "   tend to \"average out\" across the document\n",
    "\n",
    "Additionally, text often contains strong individual signals (like \"viagra\" or \"lottery\" for spam) \n",
    "that are sufficient for classification regardless of word combinations.\n",
    "\n",
    "#### Laplace Smoothing\n",
    "\n",
    "One practical issue with Naive Bayes is handling words that appear in the test data but not in the \n",
    "training data for a particular class. Without adjustment, these would get a probability of zero, \n",
    "which when multiplied would make the entire probability zero.\n",
    "\n",
    "Laplace smoothing (or additive smoothing) solves this by adding a small count (α) to every word-class \n",
    "combination, even for unseen words:\n",
    "\n",
    "P(word|class) = (count(word, class) + α) / (count(all words in class) + α × |vocabulary|)\n",
    "\n",
    "Where |vocabulary| is the total number of unique words across all documents."
   ]
  },
  {
   "cell_type": "markdown",
   "id": "90b24981",
   "metadata": {
    "papermill": {
     "duration": 0.015124,
     "end_time": "2025-04-16T17:12:57.235800",
     "exception": false,
     "start_time": "2025-04-16T17:12:57.220676",
     "status": "completed"
    },
    "tags": []
   },
   "source": [
    "## Conclusion: Naive Bayes for SMS Spam Classification\n",
    "\n",
    "### Summary\n",
    "\n",
    "The project was able to successfully implement a Multinomial Naive Bayes classifier from scratch to detect \n",
    "spam SMS messages. The implementation included:\n",
    "\n",
    "1. **Text preprocessing**: Tokenization, stop word removal, and vectorization using a bag-of-words approach\n",
    "2. **Naive Bayes algorithm**: Core implementation with:\n",
    "   - Prior probability calculation\n",
    "   - Conditional word probability calculation with Laplace smoothing\n",
    "   - Logarithmic probability calculation for numerical stability\n",
    "3. **Evaluation system**: Comprehensive metrics including accuracy, precision, recall, F1-score, and ROC curves\n"
   ]
  },
  {
   "cell_type": "markdown",
   "id": "6124b6d7",
   "metadata": {
    "papermill": {
     "duration": 0.01502,
     "end_time": "2025-04-16T17:12:57.266105",
     "exception": false,
     "start_time": "2025-04-16T17:12:57.251085",
     "status": "completed"
    },
    "tags": []
   },
   "source": [
    "### Performance Analysis\n",
    "\n",
    "The model achieved:\n",
    "- Accuracy: ~97-98%\n",
    "- High precision: Minimizing false positives (legitimate messages incorrectly marked as spam)\n",
    "- Good recall: Capturing most actual spam messages\n",
    "- Strong F1-score: Balancing precision and recall effectively\n",
    "\n",
    "These results demonstrate the effectiveness of Naive Bayes for text classification tasks, \n",
    "despite its simplicity and the \"naive\" independence assumption.\n"
   ]
  },
  {
   "cell_type": "markdown",
   "id": "9af46481",
   "metadata": {
    "papermill": {
     "duration": 0.015372,
     "end_time": "2025-04-16T17:12:57.297250",
     "exception": false,
     "start_time": "2025-04-16T17:12:57.281878",
     "status": "completed"
    },
    "tags": []
   },
   "source": [
    "### Key Insights\n",
    "\n",
    "1. **Feature Importance**: Words like \"free,\" \"urgent,\" \"win,\" and \"claim\" are strong indicators of spam\n",
    "2. **Class Distribution**: The dataset contained imbalanced classes (more legitimate messages than spam), \n",
    "   reflecting real-world conditions\n",
    "3. **Smoothing Effect**: Laplace smoothing was crucial for handling unseen words and improving model robustness\n",
    "4. **Error Analysis**: Most misclassifications occurred with short messages or those containing ambiguous language\n"
   ]
  },
  {
   "cell_type": "markdown",
   "id": "4368f5aa",
   "metadata": {
    "papermill": {
     "duration": 0.015672,
     "end_time": "2025-04-16T17:12:57.328442",
     "exception": false,
     "start_time": "2025-04-16T17:12:57.312770",
     "status": "completed"
    },
    "tags": []
   },
   "source": [
    "### Challenges and Solutions\n",
    "\n",
    "1. **Data Preprocessing**: Deciding which preprocessing steps to include (stop word removal, stemming) \n",
    "   required experimentation\n",
    "2. **Parameter Tuning**: Finding the optimal smoothing parameter (alpha) to balance between overfitting \n",
    "   and underfitting\n",
    "3. **Numerical Stability**: Using logarithms to prevent floating-point underflow when multiplying \n",
    "   many small probabilities\n",
    "4. **Handling Imbalanced Data**: Ensuring the model wasn't biased toward the majority class by using \n",
    "   appropriate evaluation metrics\n"
   ]
  },
  {
   "cell_type": "markdown",
   "id": "f12565fc",
   "metadata": {
    "papermill": {
     "duration": 0.015347,
     "end_time": "2025-04-16T17:12:57.359442",
     "exception": false,
     "start_time": "2025-04-16T17:12:57.344095",
     "status": "completed"
    },
    "tags": []
   },
   "source": [
    "### Limitations and Future Improvements\n",
    "\n",
    "1. **Feature Engineering**: Our bag-of-words approach could be enhanced with:\n",
    "   - N-gram features to capture phrases\n",
    "   - TF-IDF weighting to account for word importance\n",
    "   - Feature selection to remove noise\n",
    "2. **Model Refinements**:\n",
    "   - Exploring different smoothing techniques\n",
    "   - Implementing a hybrid approach with other algorithms\n",
    "3. **Handling Special Cases**:\n",
    "   - Better processing of numbers, URLs, and special characters\n",
    "   - Accounting for misspellings and text abbreviations common in SMS\n"
   ]
  },
  {
   "cell_type": "markdown",
   "id": "115f7f0c",
   "metadata": {
    "papermill": {
     "duration": 0.015462,
     "end_time": "2025-04-16T17:12:57.390354",
     "exception": false,
     "start_time": "2025-04-16T17:12:57.374892",
     "status": "completed"
    },
    "tags": []
   },
   "source": [
    "### Bayes' Theorem in Practice\n",
    "\n",
    "This project demonstrates how Bayes' Theorem provides a principled approach to classification by:\n",
    "1. Incorporating prior knowledge (class distribution)\n",
    "2. Updating beliefs based on evidence (word occurrences)\n",
    "3. Making decisions under uncertainty\n",
    "\n",
    "Despite its simplicity and the \"naive\" independence assumption, Naive Bayes remains a powerful \n",
    "algorithm for text classification tasks, offering a good balance between computational efficiency \n",
    "and performance."
   ]
  },
  {
   "cell_type": "markdown",
   "id": "62e3bb05",
   "metadata": {
    "papermill": {
     "duration": 0.015209,
     "end_time": "2025-04-16T17:12:57.421062",
     "exception": false,
     "start_time": "2025-04-16T17:12:57.405853",
     "status": "completed"
    },
    "tags": []
   },
   "source": [
    "## 12. Example of Model Application\n",
    "\n",
    "Let's test our model on some example messages\n"
   ]
  },
  {
   "cell_type": "code",
   "execution_count": 35,
   "id": "a9ced3e6",
   "metadata": {
    "execution": {
     "iopub.execute_input": "2025-04-16T17:12:57.453109Z",
     "iopub.status.busy": "2025-04-16T17:12:57.452823Z",
     "iopub.status.idle": "2025-04-16T17:12:57.460265Z",
     "shell.execute_reply": "2025-04-16T17:12:57.459664Z"
    },
    "papermill": {
     "duration": 0.025056,
     "end_time": "2025-04-16T17:12:57.461578",
     "exception": false,
     "start_time": "2025-04-16T17:12:57.436522",
     "status": "completed"
    },
    "tags": []
   },
   "outputs": [],
   "source": [
    "# Define a function to classify a new message\n",
    "def classify_message(message, nb_classifier, vocabulary):\n",
    "    \"\"\"\n",
    "    Classify a new message as spam or ham.\n",
    "    \n",
    "    Args:\n",
    "        message (str): The message to classify\n",
    "        nb_classifier (MultinomialNaiveBayes): Trained Naive Bayes classifier\n",
    "        vocabulary (set): Set of words in the vocabulary\n",
    "    \n",
    "    Returns:\n",
    "        tuple: (predicted_class, spam_probability, classification_details)\n",
    "    \"\"\"\n",
    "    # Preprocess the message\n",
    "    tokens = tokenize_text(message)\n",
    "    filtered_tokens = remove_stopwords(tokens)\n",
    "    \n",
    "    # Create bag-of-words vector\n",
    "    bow_vector = create_bow_vector(filtered_tokens, vocabulary)\n",
    "    \n",
    "    # Get probabilities for each class\n",
    "    probs = nb_classifier.predict_proba([bow_vector])[0]\n",
    "    \n",
    "    # Get the predicted class\n",
    "    predicted_class = 1 if probs[1] > probs[0] else 0\n",
    "    predicted_label = \"Spam\" if predicted_class == 1 else \"Ham\"\n",
    "    \n",
    "    # Get the spam probability\n",
    "    spam_probability = probs[1]\n",
    "    \n",
    "    # Get the most influential words\n",
    "    influential_words = []\n",
    "    for word in filtered_tokens:\n",
    "        if word in vocabulary:\n",
    "            if word in nb_classifier.word_probs[1] and word in nb_classifier.word_probs[0]:\n",
    "                ratio = nb_classifier.word_probs[1][word] / nb_classifier.word_probs[0][word]\n",
    "                influential_words.append((word, ratio))\n",
    "    \n",
    "    # Sort by influence (high to low)\n",
    "    influential_words.sort(key=lambda x: x[1], reverse=True)\n",
    "    \n",
    "    # Prepare classification details\n",
    "    details = {\n",
    "        'class_probs': {\n",
    "            'Ham': probs[0],\n",
    "            'Spam': probs[1]\n",
    "        },\n",
    "        'influential_words': influential_words[:5]  # Top 5 influential words\n",
    "    }\n",
    "    \n",
    "    return predicted_label, spam_probability, details"
   ]
  },
  {
   "cell_type": "code",
   "execution_count": 36,
   "id": "d6079efa",
   "metadata": {
    "execution": {
     "iopub.execute_input": "2025-04-16T17:12:57.493754Z",
     "iopub.status.busy": "2025-04-16T17:12:57.493481Z",
     "iopub.status.idle": "2025-04-16T17:12:57.497426Z",
     "shell.execute_reply": "2025-04-16T17:12:57.496707Z"
    },
    "papermill": {
     "duration": 0.021454,
     "end_time": "2025-04-16T17:12:57.498586",
     "exception": false,
     "start_time": "2025-04-16T17:12:57.477132",
     "status": "completed"
    },
    "tags": []
   },
   "outputs": [],
   "source": [
    "# Example messages to test\n",
    "example_messages = [\n",
    "    \"Congratulations! You've won a free vacation to the Bahamas. Call now to claim your prize!\",\n",
    "    \"Hey, are we still meeting for coffee tomorrow at 2pm?\",\n",
    "    \"URGENT: Your account has been suspended. Reply with your password to reactivate.\",\n",
    "    \"The project deadline has been extended to next Friday. Let me know if you need more time.\",\n",
    "    \"Get 50% off all products limited time offer click now www.discount.com\"\n",
    "]"
   ]
  },
  {
   "cell_type": "code",
   "execution_count": 37,
   "id": "28ac7753",
   "metadata": {
    "execution": {
     "iopub.execute_input": "2025-04-16T17:12:57.531130Z",
     "iopub.status.busy": "2025-04-16T17:12:57.530839Z",
     "iopub.status.idle": "2025-04-16T17:12:57.697462Z",
     "shell.execute_reply": "2025-04-16T17:12:57.696652Z"
    },
    "papermill": {
     "duration": 0.18472,
     "end_time": "2025-04-16T17:12:57.699146",
     "exception": false,
     "start_time": "2025-04-16T17:12:57.514426",
     "status": "completed"
    },
    "tags": []
   },
   "outputs": [
    {
     "name": "stdout",
     "output_type": "stream",
     "text": [
      "Example Message Classifications:\n",
      "\n",
      "Example 1:\n",
      "Message: Congratulations! You've won a free vacation to the Bahamas. Call now to claim your prize!\n",
      "Prediction: Spam (Spam probability: 1.0000)\n",
      "Class probabilities:\n",
      "  - Ham: 0.0000\n",
      "  - Spam: 1.0000\n",
      "Most influential words:\n",
      "  - 'claim' (indicates spam, ratio: 223.37)\n",
      "  - 'prize' (indicates spam, ratio: 159.89)\n",
      "  - 'congratulations' (indicates spam, ratio: 14.11)\n",
      "  - 'won' (indicates spam, ratio: 9.72)\n",
      "  - 'free' (indicates spam, ratio: 8.27)\n",
      "\n",
      "Example 2:\n",
      "Message: Hey, are we still meeting for coffee tomorrow at 2pm?\n",
      "Prediction: Ham (Spam probability: 0.0000)\n",
      "Class probabilities:\n",
      "  - Ham: 1.0000\n",
      "  - Spam: 0.0000\n",
      "Most influential words:\n",
      "  - 'pm' (indicates spam, ratio: 2.80)\n",
      "  - 'coffee' (indicates ham, ratio: 0.47)\n",
      "  - 'tomorrow' (indicates ham, ratio: 0.27)\n",
      "  - 'still' (indicates ham, ratio: 0.12)\n",
      "  - 'hey' (indicates ham, ratio: 0.08)\n",
      "\n",
      "Example 3:\n",
      "Message: URGENT: Your account has been suspended. Reply with your password to reactivate.\n",
      "Prediction: Spam (Spam probability: 0.9913)\n",
      "Class probabilities:\n",
      "  - Ham: 0.0087\n",
      "  - Spam: 0.9913\n",
      "Most influential words:\n",
      "  - 'urgent' (indicates spam, ratio: 24.45)\n",
      "  - 'reply' (indicates spam, ratio: 5.78)\n",
      "  - 'password' (indicates spam, ratio: 2.35)\n",
      "  - 'account' (indicates spam, ratio: 2.22)\n",
      "\n",
      "Example 4:\n",
      "Message: The project deadline has been extended to next Friday. Let me know if you need more time.\n",
      "Prediction: Ham (Spam probability: 0.0000)\n",
      "Class probabilities:\n",
      "  - Ham: 1.0000\n",
      "  - Spam: 0.0000\n",
      "Most influential words:\n",
      "  - 'next' (indicates ham, ratio: 0.78)\n",
      "  - 'know' (indicates ham, ratio: 0.27)\n",
      "  - 'time' (indicates ham, ratio: 0.26)\n",
      "  - 'project' (indicates ham, ratio: 0.18)\n",
      "  - 'friday' (indicates ham, ratio: 0.18)\n",
      "\n",
      "Example 5:\n",
      "Message: Get 50% off all products limited time offer click now www.discount.com\n",
      "Prediction: Spam (Spam probability: 0.9996)\n",
      "Class probabilities:\n",
      "  - Ham: 0.0004\n",
      "  - Spam: 0.9996\n",
      "Most influential words:\n",
      "  - 'www' (indicates spam, ratio: 64.27)\n",
      "  - 'discount' (indicates spam, ratio: 7.84)\n",
      "  - 'com' (indicates spam, ratio: 7.21)\n",
      "  - 'offer' (indicates spam, ratio: 6.17)\n",
      "  - 'click' (indicates spam, ratio: 3.92)\n"
     ]
    }
   ],
   "source": [
    "# Classify each example message\n",
    "print(\"Example Message Classifications:\")\n",
    "for i, message in enumerate(example_messages):\n",
    "    predicted_label, spam_probability, details = classify_message(message, nb_classifier, vocabulary)\n",
    "    \n",
    "    print(f\"\\nExample {i+1}:\")\n",
    "    print(f\"Message: {message}\")\n",
    "    print(f\"Prediction: {predicted_label} (Spam probability: {spam_probability:.4f})\")\n",
    "    \n",
    "    print(\"Class probabilities:\")\n",
    "    for cls, prob in details['class_probs'].items():\n",
    "        print(f\"  - {cls}: {prob:.4f}\")\n",
    "    \n",
    "    print(\"Most influential words:\")\n",
    "    for word, ratio in details['influential_words']:\n",
    "        spam_indicator = \"spam\" if ratio > 1 else \"ham\"\n",
    "        print(f\"  - '{word}' (indicates {spam_indicator}, ratio: {ratio:.2f})\")\n"
   ]
  },
  {
   "cell_type": "markdown",
   "id": "23042006",
   "metadata": {
    "papermill": {
     "duration": 0.015405,
     "end_time": "2025-04-16T17:12:57.731070",
     "exception": false,
     "start_time": "2025-04-16T17:12:57.715665",
     "status": "completed"
    },
    "tags": []
   },
   "source": [
    "### Visual Explanation of Bayes' Theorem\n",
    "\n",
    "Below is a visual explanation of how Bayes' Theorem works for spam detection\n"
   ]
  },
  {
   "cell_type": "code",
   "execution_count": 38,
   "id": "7f3b9c91",
   "metadata": {
    "execution": {
     "iopub.execute_input": "2025-04-16T17:12:57.763912Z",
     "iopub.status.busy": "2025-04-16T17:12:57.763629Z",
     "iopub.status.idle": "2025-04-16T17:12:57.767648Z",
     "shell.execute_reply": "2025-04-16T17:12:57.767004Z"
    },
    "papermill": {
     "duration": 0.022104,
     "end_time": "2025-04-16T17:12:57.768809",
     "exception": false,
     "start_time": "2025-04-16T17:12:57.746705",
     "status": "completed"
    },
    "tags": []
   },
   "outputs": [],
   "source": [
    "# Generate data for visualization\n",
    "import numpy as np\n",
    "import matplotlib.pyplot as plt\n",
    "import matplotlib.patches as patches\n",
    "from matplotlib.path import Path"
   ]
  },
  {
   "cell_type": "code",
   "execution_count": 39,
   "id": "f054aa2e",
   "metadata": {
    "execution": {
     "iopub.execute_input": "2025-04-16T17:12:57.801214Z",
     "iopub.status.busy": "2025-04-16T17:12:57.800944Z",
     "iopub.status.idle": "2025-04-16T17:12:58.061585Z",
     "shell.execute_reply": "2025-04-16T17:12:58.060847Z"
    },
    "papermill": {
     "duration": 0.278707,
     "end_time": "2025-04-16T17:12:58.063181",
     "exception": false,
     "start_time": "2025-04-16T17:12:57.784474",
     "status": "completed"
    },
    "tags": []
   },
   "outputs": [
    {
     "data": {
      "text/plain": [
       "<Axes: >"
      ]
     },
     "execution_count": 39,
     "metadata": {},
     "output_type": "execute_result"
    },
    {
     "data": {
      "image/png": "[encoded data removed]",
      "text/plain": [
       "<Figure size 1200x1000 with 2 Axes>"
      ]
     },
     "metadata": {},
     "output_type": "display_data"
    }
   ],
   "source": [
    "# Create a figure to visualize Bayes' Theorem\n",
    "plt.figure(figsize=(12, 10))\n",
    "\n",
    "# 1. Prior probabilities visualization (left side)\n",
    "plt.subplot(2, 2, 1)\n",
    "labels = ['Ham', 'Spam']\n",
    "prior_probs = [nb_classifier.class_priors[0], nb_classifier.class_priors[1]]\n",
    "colors = ['#66b3ff', '#ff9999']\n",
    "explode = (0, 0.1)  # Explode the spam slice\n",
    "\n",
    "plt.pie(prior_probs, explode=explode, labels=labels, colors=colors, autopct='%1.1f%%',\n",
    "        shadow=True, startangle=90)\n",
    "plt.title('Prior Probabilities\\nP(Class)')\n",
    "plt.axis('equal')\n",
    "\n",
    "# 2. Likelihood visualization for a word (right side)\n",
    "plt.subplot(2, 2, 2)"
   ]
  },
  {
   "cell_type": "code",
   "execution_count": 40,
   "id": "ca69f256",
   "metadata": {
    "execution": {
     "iopub.execute_input": "2025-04-16T17:12:58.103769Z",
     "iopub.status.busy": "2025-04-16T17:12:58.103006Z",
     "iopub.status.idle": "2025-04-16T17:12:58.267199Z",
     "shell.execute_reply": "2025-04-16T17:12:58.266445Z"
    },
    "papermill": {
     "duration": 0.183623,
     "end_time": "2025-04-16T17:12:58.268615",
     "exception": false,
     "start_time": "2025-04-16T17:12:58.084992",
     "status": "completed"
    },
    "tags": []
   },
   "outputs": [
    {
     "data": {
      "text/plain": [
       "Text(0, 0.5, 'Probability')"
      ]
     },
     "execution_count": 40,
     "metadata": {},
     "output_type": "execute_result"
    },
    {
     "data": {
      "image/png": "[encoded data removed]",
      "text/plain": [
       "<Figure size 640x480 with 1 Axes>"
      ]
     },
     "metadata": {},
     "output_type": "display_data"
    }
   ],
   "source": [
    "# Choose a strongly indicative word\n",
    "word = \"free\"  # A common spam word\n",
    "if word in vocabulary:\n",
    "    spam_prob = nb_classifier.word_probs[1].get(word, 0)\n",
    "    ham_prob = nb_classifier.word_probs[0].get(word, 0)\n",
    "else:\n",
    "    # Choose another word if \"free\" is not in vocabulary\n",
    "    word = list(vocabulary)[0]\n",
    "    spam_prob = nb_classifier.word_probs[1].get(word, 0)\n",
    "    ham_prob = nb_classifier.word_probs[0].get(word, 0)\n",
    "\n",
    "# Create bar chart\n",
    "x = np.arange(2)\n",
    "likelihood = [ham_prob, spam_prob]\n",
    "\n",
    "plt.bar(x, likelihood, color=colors)\n",
    "plt.xticks(x, labels)\n",
    "plt.title(f'Likelihood\\nP(\"{word}\"|Class)')\n",
    "plt.ylabel('Probability')"
   ]
  },
  {
   "cell_type": "code",
   "execution_count": 41,
   "id": "340b78d8",
   "metadata": {
    "execution": {
     "iopub.execute_input": "2025-04-16T17:12:58.304448Z",
     "iopub.status.busy": "2025-04-16T17:12:58.304125Z",
     "iopub.status.idle": "2025-04-16T17:12:58.514601Z",
     "shell.execute_reply": "2025-04-16T17:12:58.513730Z"
    },
    "papermill": {
     "duration": 0.229764,
     "end_time": "2025-04-16T17:12:58.516093",
     "exception": false,
     "start_time": "2025-04-16T17:12:58.286329",
     "status": "completed"
    },
    "tags": []
   },
   "outputs": [
    {
     "data": {
      "image/png": "[encoded data removed]",
      "text/plain": [
       "<Figure size 640x480 with 2 Axes>"
      ]
     },
     "metadata": {},
     "output_type": "display_data"
    }
   ],
   "source": [
    "# 3. Bayes' Theorem formula visualization (bottom left)\n",
    "plt.subplot(2, 2, 3)\n",
    "plt.axis('off')\n",
    "formula_text = r\"\"\"\n",
    "Bayes' Theorem:\n",
    "\n",
    "$P(Spam|Message) = \\frac{P(Message|Spam) \\times P(Spam)}{P(Message)}$\n",
    "\n",
    "For SMS with word \"free\":\n",
    "\n",
    "$P(Spam|\"free\") = \\frac{P(\"free\"|Spam) \\times P(Spam)}{P(\"free\")}$\n",
    "\n",
    "$P(\"free\") = P(\"free\"|Spam) \\times P(Spam) + P(\"free\"|Ham) \\times P(Ham)$\n",
    "\"\"\"\n",
    "\n",
    "plt.text(0.1, 0.5, formula_text, fontsize=12, va='center')\n",
    "\n",
    "# 4. Posterior probabilities visualization (bottom right)\n",
    "plt.subplot(2, 2, 4)\n",
    "\n",
    "# Calculate posterior probabilities for a message with just the word \"free\"\n",
    "if word in vocabulary:\n",
    "    # Calculate using Bayes' Theorem\n",
    "    numerator_spam = spam_prob * nb_classifier.class_priors[1]\n",
    "    numerator_ham = ham_prob * nb_classifier.class_priors[0]\n",
    "    evidence = numerator_spam + numerator_ham\n",
    "    \n",
    "    posterior_spam = numerator_spam / evidence if evidence > 0 else 0\n",
    "    posterior_ham = numerator_ham / evidence if evidence > 0 else 0\n",
    "    \n",
    "    posterior_probs = [posterior_ham, posterior_spam]\n",
    "    \n",
    "    plt.pie(posterior_probs, labels=labels, colors=colors, autopct='%1.1f%%',\n",
    "            shadow=True, startangle=90)\n",
    "    plt.title(f'Posterior Probabilities\\nP(Class|\"{word}\")')\n",
    "    plt.axis('equal')\n",
    "else:\n",
    "    plt.text(0.5, 0.5, f\"Word '{word}' not in vocabulary\", ha='center', va='center')\n",
    "\n",
    "plt.suptitle(\"Visual Explanation of Bayes' Theorem for Spam Detection\", fontsize=16)\n",
    "plt.tight_layout(rect=[0, 0, 1, 0.95])\n",
    "plt.show()\n"
   ]
  },
  {
   "cell_type": "markdown",
   "id": "e2429330",
   "metadata": {
    "execution": {
     "iopub.execute_input": "2025-04-16T16:59:40.211009Z",
     "iopub.status.busy": "2025-04-16T16:59:40.210677Z",
     "iopub.status.idle": "2025-04-16T16:59:40.216433Z",
     "shell.execute_reply": "2025-04-16T16:59:40.215223Z",
     "shell.execute_reply.started": "2025-04-16T16:59:40.210983Z"
    },
    "papermill": {
     "duration": 0.017726,
     "end_time": "2025-04-16T17:12:58.552698",
     "exception": false,
     "start_time": "2025-04-16T17:12:58.534972",
     "status": "completed"
    },
    "tags": []
   },
   "source": [
    "### Final remarks\n",
    "\n",
    "This project demonstrates a from-scratch implementation of a Naive Bayes classifier for SMS spam detection.\n",
    "The implementation follows the mathematical principles of Bayes' Theorem while handling practical concerns\n",
    "like smoothing and numerical stability.\n",
    "\n",
    "The \"naive\" assumption of feature independence, while theoretically incorrect, works surprisingly well\n",
    "for text classification. Our model achieves high accuracy, precision, and recall, proving the\n",
    "effectiveness of this approach.\n",
    "\n",
    "By implementing Naive Bayes from scratch, we gain deeper insight into how probabilistic classifiers\n",
    "work and the theoretical foundations of machine learning algorithms."
   ]
  }
 ],
 "metadata": {
  "kaggle": {
   "accelerator": "none",
   "dataSources": [
    {
     "datasetId": 483,
     "sourceId": 982,
     "sourceType": "datasetVersion"
    }
   ],
   "dockerImageVersionId": 31012,
   "isGpuEnabled": false,
   "isInternetEnabled": true,
   "language": "python",
   "sourceType": "notebook"
  },
  "kernelspec": {
   "display_name": "Python 3",
   "language": "python",
   "name": "python3"
  },
  "language_info": {
   "codemirror_mode": {
    "name": "ipython",
    "version": 3
   },
   "file_extension": ".py",
   "mimetype": "text/x-python",
   "name": "python",
   "nbconvert_exporter": "python",
   "pygments_lexer": "ipython3",
   "version": "3.11.11"
  },
  "papermill": {
   "default_parameters": {},
   "duration": 369.759655,
   "end_time": "2025-04-16T17:12:59.389865",
   "environment_variables": {},
   "exception": null,
   "input_path": "__notebook__.ipynb",
   "output_path": "__notebook__.ipynb",
   "parameters": {},
   "start_time": "2025-04-16T17:06:49.630210",
   "version": "2.6.0"
  }
 },
 "nbformat": 4,
 "nbformat_minor": 5
}
